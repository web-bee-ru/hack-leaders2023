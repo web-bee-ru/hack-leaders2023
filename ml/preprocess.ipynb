{
 "cells": [
  {
   "cell_type": "code",
   "execution_count": null,
   "metadata": {
    "collapsed": true
   },
   "outputs": [],
   "source": [
    "%load_ext autoreload\n",
    "%autoreload 2"
   ]
  },
  {
   "cell_type": "code",
   "execution_count": null,
   "outputs": [],
   "source": [
    "import pandas as pd # 2.x to support pyarrow\n",
    "import pyarrow as pa\n",
    "import openpyxl # for reading xlsx with structure\n",
    "import numpy as np\n",
    "import plotly.express as px\n",
    "import math\n",
    "import re\n",
    "from datetime import timedelta"
   ],
   "metadata": {
    "collapsed": false
   }
  },
  {
   "cell_type": "code",
   "execution_count": null,
   "outputs": [],
   "source": [
    "messages = pd.read_excel('../data/source/messages.xlsx', index_col=0)"
   ],
   "metadata": {
    "collapsed": false
   }
  },
  {
   "cell_type": "code",
   "execution_count": null,
   "outputs": [],
   "source": [
    "# messages"
   ],
   "metadata": {
    "collapsed": false
   }
  },
  {
   "cell_type": "code",
   "execution_count": null,
   "outputs": [],
   "source": [
    "x_train = pd.read_parquet('../data/source/X_train.parquet', engine='pyarrow', dtype_backend='pyarrow')\n",
    "x_train['DATASET_IDX'] = range(0, len(x_train))"
   ],
   "metadata": {
    "collapsed": false
   }
  },
  {
   "cell_type": "code",
   "execution_count": null,
   "outputs": [],
   "source": [
    "# x_train"
   ],
   "metadata": {
    "collapsed": false
   }
  },
  {
   "cell_type": "code",
   "execution_count": null,
   "outputs": [],
   "source": [
    "x_test = pd.read_parquet('../data/source/X_test.parquet', engine='pyarrow', dtype_backend='pyarrow')\n",
    "x_test['DATASET_IDX'] = range(0, len(x_test))"
   ],
   "metadata": {
    "collapsed": false
   }
  },
  {
   "cell_type": "code",
   "execution_count": null,
   "outputs": [],
   "source": [
    "# x_test"
   ],
   "metadata": {
    "collapsed": false
   }
  },
  {
   "cell_type": "code",
   "execution_count": null,
   "outputs": [],
   "source": [
    "y_train = pd.read_parquet('../data/source/y_train.parquet', engine='pyarrow', dtype_backend='pyarrow')\n",
    "y_train['DATASET_IDX'] = range(0, len(y_train))"
   ],
   "metadata": {
    "collapsed": false
   }
  },
  {
   "cell_type": "code",
   "execution_count": null,
   "outputs": [],
   "source": [
    "# y_train"
   ],
   "metadata": {
    "collapsed": false
   }
  },
  {
   "cell_type": "code",
   "execution_count": null,
   "outputs": [],
   "source": [
    "def clean_x_machine_name(dirty):\n",
    "    value = dirty\n",
    "    value = re.sub(r'ЭКСГАУСТЕР (\\d+)', r'ЭКСГАУСТЕР А/М №\\1', value)\n",
    "    value = re.sub(r'\\s+', ' ', value)\n",
    "    value = value.strip()\n",
    "    return value\n",
    "\n",
    "def clean_x_meter_name(dirty):\n",
    "    value = dirty\n",
    "    value = re.sub(r'ТОК РОТОРА(\\d+)', r'ТОК РОТОРА \\1', value)\n",
    "    value = re.sub(r'\\s+', ' ', value)\n",
    "    value = value.strip()\n",
    "    return value\n",
    "\n",
    "def extract_x_structure(x):\n",
    "    x_columns = pd.DataFrame({ 'ИМЯ МАШИНЫ И НАЗВАНИЕ ДАТЧИКА': list(set(x.columns) - set(['DATASET_IDX'])) })\n",
    "    x_columns['ИМЯ МАШИНЫ'] = x_columns['ИМЯ МАШИНЫ И НАЗВАНИЕ ДАТЧИКА'].str.extract(r'(ЭКСГАУСТЕР \\d+)')\n",
    "    x_columns['ИМЯ МАШИНЫ'] = x_columns['ИМЯ МАШИНЫ'].map(clean_x_machine_name)\n",
    "    x_columns['НАЗВАНИЕ ДАТЧИКА'] = x_columns['ИМЯ МАШИНЫ И НАЗВАНИЕ ДАТЧИКА'].str.extract(r'ЭКСГАУСТЕР \\d+\\. (.*)$')\n",
    "    x_columns['НАЗВАНИЕ ДАТЧИКА'] = x_columns['НАЗВАНИЕ ДАТЧИКА'].map(clean_x_meter_name)\n",
    "    return x_columns.pivot(index='НАЗВАНИЕ ДАТЧИКА', columns='ИМЯ МАШИНЫ', values='ИМЯ МАШИНЫ И НАЗВАНИЕ ДАТЧИКА')\n",
    "\n",
    "# x_structure = extract_x_structure(x_train)\n",
    "# x_structure.to_parquet('../data/pipeline/x_structure.parquet')\n",
    "x_structure = pd.read_parquet('../data/pipeline/x_structure.parquet')"
   ],
   "metadata": {
    "collapsed": false
   }
  },
  {
   "cell_type": "code",
   "execution_count": null,
   "outputs": [],
   "source": [
    "# x_structure"
   ],
   "metadata": {
    "collapsed": false
   }
  },
  {
   "cell_type": "code",
   "execution_count": null,
   "outputs": [],
   "source": [
    "def clean_y_machine_name(dirty):\n",
    "    value = dirty\n",
    "    value = re.sub(r'Y_ЭКСГАУСТЕР А/М №(\\d+)', r'ЭКСГАУСТЕР А/М №\\1', value)\n",
    "    value = re.sub(r'\\s+', ' ', value)\n",
    "    value = value.strip()\n",
    "    return value\n",
    "\n",
    "def clean_y_place_name(dirty):\n",
    "    value = dirty\n",
    "    value = re.sub(r'ЭКСГАУСТЕРА №\\d+', '', value)\n",
    "    value = re.sub(r'ЭКСГАУСТЕРА А/М №\\d+', '', value)\n",
    "    value = re.sub(r'ЭКСГ. №\\d+', '', value)\n",
    "    value = re.sub(r'ЭКСГ.№\\d+', '', value)\n",
    "    value = re.sub(r'ЭКСГ\\d+', '', value)\n",
    "    value = re.sub(r'ТР№\\d+', 'ТР', value)\n",
    "    value = re.sub(r'^ЭКСГАУСТЕР А/М №\\d+', 'ЭКСГАУСТЕР А/М', value)\n",
    "    value = re.sub(r'^ЭКСГАУСТЕР Н-8000 А/М №\\d+', 'ЭКСГАУСТЕР Н-8000 А/М', value)\n",
    "    value = re.sub(r'\\s+', ' ', value)\n",
    "    value = value.strip()\n",
    "    return value\n",
    "\n",
    "def extract_y_structure(y):\n",
    "    y_columns = pd.DataFrame({ 'ИМЯ МАШИНЫ И НАЗВАНИЕ ТЕХ МЕСТА': list(set(y.columns) - set(['DATASET_IDX'])) })\n",
    "    y_columns['ИМЯ МАШИНЫ'] = y_columns['ИМЯ МАШИНЫ И НАЗВАНИЕ ТЕХ МЕСТА'].str.extract(r'(Y_ЭКСГАУСТЕР А/М №\\d+)')\n",
    "    y_columns['ИМЯ МАШИНЫ'] = y_columns['ИМЯ МАШИНЫ'].map(clean_y_machine_name)\n",
    "    y_columns['НАЗВАНИЕ ТЕХ МЕСТА'] = y_columns['ИМЯ МАШИНЫ И НАЗВАНИЕ ТЕХ МЕСТА'].str.extract(r'Y_ЭКСГАУСТЕР А/М №\\d+_(.*)$')\n",
    "    y_columns['НАЗВАНИЕ ТЕХ МЕСТА'] = y_columns['НАЗВАНИЕ ТЕХ МЕСТА'].map(clean_y_place_name)\n",
    "    return y_columns.pivot(index='НАЗВАНИЕ ТЕХ МЕСТА', columns='ИМЯ МАШИНЫ', values='ИМЯ МАШИНЫ И НАЗВАНИЕ ТЕХ МЕСТА')\n",
    "\n",
    "# y_structure = extract_y_structure(y_train)\n",
    "# y_structure.to_parquet('../data/pipeline/y_structure.parquet')\n",
    "y_structure = pd.read_parquet('../data/pipeline/y_structure.parquet')"
   ],
   "metadata": {
    "collapsed": false
   }
  },
  {
   "cell_type": "code",
   "execution_count": null,
   "outputs": [],
   "source": [
    "# y_structure"
   ],
   "metadata": {
    "collapsed": false
   }
  },
  {
   "cell_type": "code",
   "execution_count": null,
   "outputs": [],
   "source": [
    "def prettify_messages(messages):\n",
    "    messages_pretty = pd.DataFrame(index=messages.index)\n",
    "\n",
    "    messages_pretty['ИМЯ МАШИНЫ'] = messages['ИМЯ_МАШИНЫ']\n",
    "    messages_pretty['НАЗВАНИЕ ТЕХ МЕСТА'] = messages['НАЗВАНИЕ_ТЕХ_МЕСТА'].map(clean_y_place_name)\n",
    "    messages_pretty['НАЗВАНИЕ ТЕХ МЕСТА ПОЛНОЕ'] = messages['НАЗВАНИЕ_ТЕХ_МЕСТА']\n",
    "    messages_pretty['ВИД СООБЩЕНИЯ'] = messages['ВИД_СООБЩЕНИЯ']\n",
    "    messages_pretty['ОПИСАНИЕ'] = messages['ОПИСАНИЕ']\n",
    "    messages_pretty['ДАТА НАЧАЛА НЕИСПРАВНОСТИ'] = messages['ДАТА_НАЧАЛА_НЕИСПРАВНОСТИ']\n",
    "    messages_pretty['ДАТА УСТРАНЕНИЯ НЕИСПРАВНОСТИ'] = messages['ДАТА_УСТРАНЕНИЯ_НЕИСПРАВНОСТИ']\n",
    "    messages_pretty['ДЛИТЕЛЬНОСТЬ НЕИСПРАВНОСТИ, СЕК'] = (messages['ДАТА_УСТРАНЕНИЯ_НЕИСПРАВНОСТИ'] - messages['ДАТА_НАЧАЛА_НЕИСПРАВНОСТИ']) \\\n",
    "        .dt.seconds\n",
    "    messages_pretty['ТЕКСТ ГРУППЫ КОДОВ'] = messages['ТЕКСТ_ГРУППЫ_КОДОВ']\n",
    "\n",
    "    # @NOTE: Согласно комментарию эксперта, незакрытые неисправности в тренировочном наборе это скорее ошибка заполнения\n",
    "    messages_pretty = messages_pretty[messages_pretty['ДАТА УСТРАНЕНИЯ НЕИСПРАВНОСТИ'].notna()]\n",
    "\n",
    "    # @NOTE: Согласно комментарию эксперта, запланированные остановки не нужно предсказывать\n",
    "    messages_pretty = messages_pretty[messages_pretty['ТЕКСТ ГРУППЫ КОДОВ'] != 'ТЕХНИЧЕСКИЕ ПЛАНОВЫЕ']\n",
    "\n",
    "    return messages_pretty\n",
    "\n",
    "# messages_pretty = prettify_messages(messages)\n",
    "# messages_pretty.to_parquet('../data/pipeline/messages_pretty.parquet')\n",
    "messages_pretty = pd.read_parquet('../data/pipeline/messages_pretty.parquet')"
   ],
   "metadata": {
    "collapsed": false
   }
  },
  {
   "cell_type": "code",
   "execution_count": null,
   "outputs": [],
   "source": [],
   "metadata": {
    "collapsed": false
   }
  },
  {
   "cell_type": "code",
   "execution_count": null,
   "outputs": [],
   "source": [
    "tmp = messages_pretty[['НАЗВАНИЕ ТЕХ МЕСТА', 'ВИД СООБЩЕНИЯ', 'ДЛИТЕЛЬНОСТЬ НЕИСПРАВНОСТИ, СЕК']] \\\n",
    "    .groupby(['ВИД СООБЩЕНИЯ', 'НАЗВАНИЕ ТЕХ МЕСТА'])\n",
    "\n",
    "tmp_mean = tmp.mean().reset_index() \\\n",
    "    .pivot(index=['НАЗВАНИЕ ТЕХ МЕСТА'], columns=['ВИД СООБЩЕНИЯ'], values=['ДЛИТЕЛЬНОСТЬ НЕИСПРАВНОСТИ, СЕК'])\n",
    "tmp_median = tmp.median().reset_index() \\\n",
    "    .pivot(index=['НАЗВАНИЕ ТЕХ МЕСТА'], columns=['ВИД СООБЩЕНИЯ'], values=['ДЛИТЕЛЬНОСТЬ НЕИСПРАВНОСТИ, СЕК'])\n",
    "tmp2 = pd.merge(tmp_mean, tmp_median, left_index=True, right_index=True, suffixes=(' mean', ' median'))\n",
    "\n",
    "# tmp2.to_csv('../data/pipeline/db/tms_extra.csv')\n",
    "tmp2"
   ],
   "metadata": {
    "collapsed": false
   }
  },
  {
   "cell_type": "code",
   "execution_count": null,
   "outputs": [],
   "source": [
    "def prettify_x(x):\n",
    "    x_pretty = pd.DataFrame()\n",
    "    for (machine, meter_names) in x_structure.transpose().iterrows():\n",
    "        x_pretty_slice = pd.DataFrame(index=x.index)\n",
    "        x_pretty_slice['ROW_IDX'] = 0\n",
    "        x_pretty_slice['DATASET_IDX'] = x['DATASET_IDX']\n",
    "        x_pretty_slice['ИМЯ МАШИНЫ'] = machine\n",
    "        x_pretty_slice[meter_names.index] = x[meter_names.values]\n",
    "        x_pretty_slice = x_pretty_slice.reset_index()\n",
    "        x_pretty = pd.concat([x_pretty, x_pretty_slice])\n",
    "    x_pretty['ROW_IDX'] = range(0, len(x_pretty))\n",
    "    return x_pretty"
   ],
   "metadata": {
    "collapsed": false
   }
  },
  {
   "cell_type": "code",
   "execution_count": null,
   "outputs": [],
   "source": [
    "# # x_train_pretty = prettify_x(x_train)\n",
    "# # x_train_pretty.to_parquet('../data/pipeline/x_train_pretty.parquet')\n",
    "# x_train_pretty = pd.read_parquet('../data/pipeline/x_train_pretty.parquet')\n",
    "\n",
    "# x_train_pretty_1d = x_train_pretty.set_index(['ИМЯ МАШИНЫ', 'DT']) \\\n",
    "#     .groupby([pd.Grouper(level='ИМЯ МАШИНЫ'), pd.Grouper(level='DT', freq='1d')]).mean().reset_index()\n",
    "# x_train_pretty_1d.to_parquet('../data/pipeline/x_train_pretty_1d.parquet')\n",
    "x_train_pretty_1d = pd.read_parquet('../data/pipeline/x_train_pretty_1d.parquet')\n",
    "\n",
    "# x_train_pretty_1h = x_train_pretty.set_index(['ИМЯ МАШИНЫ', 'DT']) \\\n",
    "#     .groupby([pd.Grouper(level='ИМЯ МАШИНЫ'), pd.Grouper(level='DT', freq='1h')]).mean().reset_index()\n",
    "# x_train_pretty_1h.to_parquet('../data/pipeline/x_train_pretty_1h.parquet')\n",
    "x_train_pretty_1h = pd.read_parquet('../data/pipeline/x_train_pretty_1h.parquet')"
   ],
   "metadata": {
    "collapsed": false
   }
  },
  {
   "cell_type": "code",
   "execution_count": null,
   "outputs": [],
   "source": [
    "# x_train_pretty"
   ],
   "metadata": {
    "collapsed": false
   }
  },
  {
   "cell_type": "code",
   "execution_count": null,
   "outputs": [],
   "source": [
    "# px.line(x_train_pretty_1h, x='DT', y=x_structure.index, facet_row='ИМЯ МАШИНЫ', height=2000)\n",
    "# px.line(x_train_pretty_1d, x='DT', y=x_structure.index, facet_row='ИМЯ МАШИНЫ', height=2000)"
   ],
   "metadata": {
    "collapsed": false,
    "pycharm": {
     "is_executing": true
    }
   }
  },
  {
   "cell_type": "code",
   "execution_count": null,
   "outputs": [],
   "source": [
    "# # x_test_pretty = prettify_x(x_test)\n",
    "# # x_test_pretty.to_parquet('../data/pipeline/x_test_pretty.parquet')\n",
    "# x_test_pretty = pd.read_parquet('../data/pipeline/x_test_pretty.parquet')\n",
    "\n",
    "# x_test_pretty_1d = x_test_pretty.set_index(['ИМЯ МАШИНЫ', 'DT']) \\\n",
    "#     .groupby([pd.Grouper(level='ИМЯ МАШИНЫ'), pd.Grouper(level='DT', freq='1d')]).mean().reset_index()\n",
    "# x_test_pretty_1d.to_parquet('../data/pipeline/x_test_pretty_1d.parquet')\n",
    "x_test_pretty_1d = pd.read_parquet('../data/pipeline/x_test_pretty_1d.parquet')\n",
    "\n",
    "# x_test_pretty_1h = x_test_pretty.set_index(['ИМЯ МАШИНЫ', 'DT']) \\\n",
    "#     .groupby([pd.Grouper(level='ИМЯ МАШИНЫ'), pd.Grouper(level='DT', freq='1h')]).mean().reset_index()\n",
    "# x_test_pretty_1h.to_parquet('../data/pipeline/x_test_pretty_1h.parquet')\n",
    "x_test_pretty_1h = pd.read_parquet('../data/pipeline/x_test_pretty_1h.parquet')"
   ],
   "metadata": {
    "collapsed": false
   }
  },
  {
   "cell_type": "code",
   "execution_count": null,
   "outputs": [],
   "source": [
    "# x_test_pretty"
   ],
   "metadata": {
    "collapsed": false
   }
  },
  {
   "cell_type": "code",
   "execution_count": null,
   "outputs": [],
   "source": [
    "# px.line(x_test_pretty_1h, x='DT', y=x_structure.index, facet_row='ИМЯ МАШИНЫ', height=2000)\n",
    "# px.line(x_test_pretty_1d, x='DT', y=x_structure.index, facet_row='ИМЯ МАШИНЫ', height=2000)"
   ],
   "metadata": {
    "collapsed": false,
    "pycharm": {
     "is_executing": true
    }
   }
  },
  {
   "cell_type": "code",
   "execution_count": null,
   "outputs": [],
   "source": [
    "MAX_TTE = 31 * 24 * 60 * 60\n",
    "\n",
    "def prettify_y(y, place_whitelist):\n",
    "    y_pretty = pd.DataFrame()\n",
    "    for (machine, meter_names) in y_structure.transpose().iterrows():\n",
    "        # present_meter_names = meter_names[meter_names.notna()]\n",
    "\n",
    "        y_pretty_slice = pd.DataFrame(index=y.index)\n",
    "        y_pretty_slice['ROW_IDX'] = 0\n",
    "        y_pretty_slice['DATASET_IDX'] = y['DATASET_IDX']\n",
    "        y_pretty_slice['ИМЯ МАШИНЫ'] = machine\n",
    "\n",
    "        machine_messages = messages_pretty[messages_pretty['ИМЯ МАШИНЫ'] == machine].sort_values('ДАТА НАЧАЛА НЕИСПРАВНОСТИ', ascending=False)\n",
    "\n",
    "        places = [place for place in y_structure.index if place in place_whitelist]\n",
    "\n",
    "        m1_messages = machine_messages[machine_messages['ВИД СООБЩЕНИЯ'] == 'M1']\n",
    "        tte_m1 = pd.DataFrame(index=y.index, columns=places, dtype='float32').fillna(MAX_TTE)\n",
    "        for (idx, message) in m1_messages.iterrows():\n",
    "            place = message.loc['НАЗВАНИЕ ТЕХ МЕСТА']\n",
    "            if place not in place_whitelist:\n",
    "                continue\n",
    "            start = message.loc['ДАТА НАЧАЛА НЕИСПРАВНОСТИ']\n",
    "            end = message.loc['ДАТА УСТРАНЕНИЯ НЕИСПРАВНОСТИ']\n",
    "            size = len(tte_m1[place].loc[start - timedelta(days=31):start])\n",
    "            tte_m1[place].loc[start - timedelta(days=31):start] = np.arange(size, 0, -1) * 10 # @NOTE: 10 сек инкремент DT\n",
    "            tte_m1[place].loc[start:end] = 0\n",
    "\n",
    "        m3_messages = machine_messages[machine_messages['ВИД СООБЩЕНИЯ'] == 'M3']\n",
    "        tte_m3 = pd.DataFrame(index=y.index, columns=places, dtype='float32').fillna(MAX_TTE)\n",
    "        for (idx, message) in m3_messages.iterrows():\n",
    "            place = message.loc['НАЗВАНИЕ ТЕХ МЕСТА']\n",
    "            if place not in place_whitelist:\n",
    "                continue\n",
    "            start = message.loc['ДАТА НАЧАЛА НЕИСПРАВНОСТИ']\n",
    "            end = message.loc['ДАТА УСТРАНЕНИЯ НЕИСПРАВНОСТИ']\n",
    "            size = len(tte_m3[place].loc[start - timedelta(days=31):start])\n",
    "            tte_m3[place].loc[start - timedelta(days=31):start] = np.arange(size, 0, -1) * 10 # @NOTE: 10 сек инкремент DT\n",
    "            tte_m3[place].loc[start:end] = 0\n",
    "\n",
    "        tte = pd.merge(tte_m1, tte_m3, left_index=True, right_index=True, suffixes=[' TTE M1', ' TTE M3'])\n",
    "        y_pretty_slice = pd.merge(y_pretty_slice, tte, left_index=True, right_index=True)\n",
    "\n",
    "        y_pretty_slice = y_pretty_slice.reset_index()\n",
    "        y_pretty = pd.concat([y_pretty, y_pretty_slice])\n",
    "    y_pretty['ROW_IDX'] = range(0, len(y_pretty))\n",
    "    return y_pretty"
   ],
   "metadata": {
    "collapsed": false
   }
  },
  {
   "cell_type": "code",
   "execution_count": null,
   "outputs": [],
   "source": [
    "def extract_y_train_tte():\n",
    "    y_train_tte_1d = pd.DataFrame(index=x_train_pretty_1d.set_index(['ИМЯ МАШИНЫ', 'DT']).index)\n",
    "    y_train_tte_1h = pd.DataFrame(index=x_train_pretty_1h.set_index(['ИМЯ МАШИНЫ', 'DT']).index)\n",
    "\n",
    "    place_whitelists = np.array_split(list(y_structure.index), 2)\n",
    "    for place_whitelist in place_whitelists:\n",
    "        y_train_tte_slice = prettify_y(y_train, place_whitelist)\n",
    "        y_train_tte_1d_slice = y_train_tte_slice.set_index(['ИМЯ МАШИНЫ', 'DT']) \\\n",
    "            .groupby([pd.Grouper(level='ИМЯ МАШИНЫ'), pd.Grouper(level='DT', freq='1d')]).mean()\n",
    "        y_train_tte_1d = y_train_tte_1d.merge(y_train_tte_1d_slice, left_index=True, right_index=True)\n",
    "        y_train_tte_1h_slice = y_train_tte_slice.set_index(['ИМЯ МАШИНЫ', 'DT']) \\\n",
    "            .groupby([pd.Grouper(level='ИМЯ МАШИНЫ'), pd.Grouper(level='DT', freq='1h')]).mean()\n",
    "        y_train_tte_1h = y_train_tte_1h.merge(y_train_tte_1h_slice, left_index=True, right_index=True)\n",
    "\n",
    "    return [y_train_tte_1d.reset_index(), y_train_tte_1h.reset_index()]\n",
    "\n",
    "\n",
    "# y_train_tte_1d, y_train_tte_1h = extract_y_train_tte()\n",
    "# y_train_tte_1d.to_parquet('../data/pipeline/y_train_tte_1d.parquet')\n",
    "# y_train_tte_1h.to_parquet('../data/pipeline/y_train_tte_1h.parquet')\n",
    "y_train_tte_1d = pd.read_parquet('../data/pipeline/y_train_tte_1d.parquet')\n",
    "y_train_tte_1h = pd.read_parquet('../data/pipeline/y_train_tte_1h.parquet')"
   ],
   "metadata": {
    "collapsed": false
   }
  }
 ],
 "metadata": {
  "kernelspec": {
   "display_name": "Python 3",
   "language": "python",
   "name": "python3"
  },
  "language_info": {
   "codemirror_mode": {
    "name": "ipython",
    "version": 2
   },
   "file_extension": ".py",
   "mimetype": "text/x-python",
   "name": "python",
   "nbconvert_exporter": "python",
   "pygments_lexer": "ipython2",
   "version": "2.7.6"
  }
 },
 "nbformat": 4,
 "nbformat_minor": 0
}
