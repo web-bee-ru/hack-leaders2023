{
 "cells": [
  {
   "cell_type": "code",
   "execution_count": null,
   "metadata": {
    "collapsed": true
   },
   "outputs": [],
   "source": [
    "%load_ext autoreload\n",
    "%autoreload 2"
   ]
  },
  {
   "cell_type": "code",
   "execution_count": null,
   "outputs": [],
   "source": [
    "import pandas as pd # 2.x to support pyarrow\n",
    "import pyarrow as pa\n",
    "import openpyxl # for reading xlsx with structure\n",
    "import numpy as np\n",
    "import plotly.express as px\n",
    "import math\n",
    "import re"
   ],
   "metadata": {
    "collapsed": false
   }
  },
  {
   "cell_type": "code",
   "execution_count": null,
   "outputs": [],
   "source": [
    "messages = pd.read_excel('../data/source/messages.xlsx', index_col=0)"
   ],
   "metadata": {
    "collapsed": false
   }
  },
  {
   "cell_type": "code",
   "execution_count": null,
   "outputs": [],
   "source": [
    "# messages"
   ],
   "metadata": {
    "collapsed": false
   }
  },
  {
   "cell_type": "code",
   "execution_count": null,
   "outputs": [],
   "source": [
    "x_train = pd.read_parquet('../data/source/X_train.parquet', engine='pyarrow', dtype_backend='pyarrow')\n",
    "x_train['DATASET_IDX'] = range(0, len(x_train))"
   ],
   "metadata": {
    "collapsed": false
   }
  },
  {
   "cell_type": "code",
   "execution_count": null,
   "outputs": [],
   "source": [
    "# x_train"
   ],
   "metadata": {
    "collapsed": false
   }
  },
  {
   "cell_type": "code",
   "execution_count": null,
   "outputs": [],
   "source": [
    "x_test = pd.read_parquet('../data/source/X_test.parquet', engine='pyarrow', dtype_backend='pyarrow')\n",
    "x_test['DATASET_IDX'] = range(0, len(x_test))"
   ],
   "metadata": {
    "collapsed": false
   }
  },
  {
   "cell_type": "code",
   "execution_count": null,
   "outputs": [],
   "source": [
    "# x_test"
   ],
   "metadata": {
    "collapsed": false
   }
  },
  {
   "cell_type": "code",
   "execution_count": null,
   "outputs": [],
   "source": [
    "y_train = pd.read_parquet('../data/source/y_train.parquet', engine='pyarrow', dtype_backend='pyarrow')\n",
    "y_train['DATASET_IDX'] = range(0, len(y_train))"
   ],
   "metadata": {
    "collapsed": false
   }
  },
  {
   "cell_type": "code",
   "execution_count": null,
   "outputs": [],
   "source": [
    "# y_train"
   ],
   "metadata": {
    "collapsed": false
   }
  },
  {
   "cell_type": "code",
   "execution_count": null,
   "outputs": [],
   "source": [
    "def clean_x_machine_name(dirty):\n",
    "    value = dirty\n",
    "    value = re.sub(r'ЭКСГАУСТЕР (\\d+)', r'ЭКСГАУСТЕР А/М №\\1', value)\n",
    "    value = re.sub(r'\\s+', ' ', value)\n",
    "    value = value.strip()\n",
    "    return value\n",
    "\n",
    "def clean_x_meter_name(dirty):\n",
    "    value = dirty\n",
    "    value = re.sub(r'ТОК РОТОРА(\\d+)', r'ТОК РОТОРА \\1', value)\n",
    "    value = re.sub(r'\\s+', ' ', value)\n",
    "    value = value.strip()\n",
    "    return value\n",
    "\n",
    "def extract_x_structure(x):\n",
    "    x_columns = pd.DataFrame({ 'ИМЯ МАШИНЫ И НАЗВАНИЕ ДАТЧИКА': list(set(x.columns) - set(['DATASET_IDX'])) })\n",
    "    x_columns['ИМЯ МАШИНЫ'] = x_columns['ИМЯ МАШИНЫ И НАЗВАНИЕ ДАТЧИКА'].str.extract(r'(ЭКСГАУСТЕР \\d+)')\n",
    "    x_columns['ИМЯ МАШИНЫ'] = x_columns['ИМЯ МАШИНЫ'].map(clean_x_machine_name)\n",
    "    x_columns['НАЗВАНИЕ ДАТЧИКА'] = x_columns['ИМЯ МАШИНЫ И НАЗВАНИЕ ДАТЧИКА'].str.extract(r'ЭКСГАУСТЕР \\d+\\. (.*)$')\n",
    "    x_columns['НАЗВАНИЕ ДАТЧИКА'] = x_columns['НАЗВАНИЕ ДАТЧИКА'].map(clean_x_meter_name)\n",
    "    return x_columns.pivot(index='НАЗВАНИЕ ДАТЧИКА', columns='ИМЯ МАШИНЫ', values='ИМЯ МАШИНЫ И НАЗВАНИЕ ДАТЧИКА')\n",
    "\n",
    "# x_structure = extract_x_structure(x_train)\n",
    "# x_structure.to_parquet('../data/pipeline/x_structure.parquet')\n",
    "x_structure = pd.read_parquet('../data/pipeline/x_structure.parquet')"
   ],
   "metadata": {
    "collapsed": false
   }
  },
  {
   "cell_type": "code",
   "execution_count": null,
   "outputs": [],
   "source": [
    "# x_structure"
   ],
   "metadata": {
    "collapsed": false
   }
  },
  {
   "cell_type": "code",
   "execution_count": null,
   "outputs": [],
   "source": [
    "def clean_y_machine_name(dirty):\n",
    "    value = dirty\n",
    "    value = re.sub(r'Y_ЭКСГАУСТЕР А/М №(\\d+)', r'ЭКСГАУСТЕР А/М №\\1', value)\n",
    "    value = re.sub(r'\\s+', ' ', value)\n",
    "    value = value.strip()\n",
    "    return value\n",
    "\n",
    "def clean_y_place_name(dirty):\n",
    "    value = dirty\n",
    "    value = re.sub(r'ЭКСГАУСТЕРА №\\d+', '', value)\n",
    "    value = re.sub(r'ЭКСГАУСТЕРА А/М №\\d+', '', value)\n",
    "    value = re.sub(r'ЭКСГ. №\\d+', '', value)\n",
    "    value = re.sub(r'ЭКСГ.№\\d+', '', value)\n",
    "    value = re.sub(r'ЭКСГ\\d+', '', value)\n",
    "    value = re.sub(r'ТР№\\d+', 'ТР', value)\n",
    "    value = re.sub(r'^ЭКСГАУСТЕР А/М №\\d+', 'ЭКСГАУСТЕР А/М', value)\n",
    "    value = re.sub(r'^ЭКСГАУСТЕР Н-8000 А/М №\\d+', 'ЭКСГАУСТЕР Н-8000 А/М', value)\n",
    "    value = re.sub(r'\\s+', ' ', value)\n",
    "    value = value.strip()\n",
    "    return value\n",
    "\n",
    "def extract_y_structure(y):\n",
    "    y_columns = pd.DataFrame({ 'ИМЯ МАШИНЫ И НАЗВАНИЕ ТЕХ МЕСТА': list(set(y.columns) - set(['DATASET_IDX'])) })\n",
    "    y_columns['ИМЯ МАШИНЫ'] = y_columns['ИМЯ МАШИНЫ И НАЗВАНИЕ ТЕХ МЕСТА'].str.extract(r'(Y_ЭКСГАУСТЕР А/М №\\d+)')\n",
    "    y_columns['ИМЯ МАШИНЫ'] = y_columns['ИМЯ МАШИНЫ'].map(clean_y_machine_name)\n",
    "    y_columns['НАЗВАНИЕ ТЕХ МЕСТА'] = y_columns['ИМЯ МАШИНЫ И НАЗВАНИЕ ТЕХ МЕСТА'].str.extract(r'Y_ЭКСГАУСТЕР А/М №\\d+_(.*)$')\n",
    "    y_columns['НАЗВАНИЕ ТЕХ МЕСТА'] = y_columns['НАЗВАНИЕ ТЕХ МЕСТА'].map(clean_y_place_name)\n",
    "    return y_columns.pivot(index='НАЗВАНИЕ ТЕХ МЕСТА', columns='ИМЯ МАШИНЫ', values='ИМЯ МАШИНЫ И НАЗВАНИЕ ТЕХ МЕСТА')\n",
    "\n",
    "# y_structure = extract_y_structure(y_train)\n",
    "# y_structure.to_parquet('../data/pipeline/y_structure.parquet')\n",
    "y_structure = pd.read_parquet('../data/pipeline/y_structure.parquet')"
   ],
   "metadata": {
    "collapsed": false
   }
  },
  {
   "cell_type": "code",
   "execution_count": null,
   "outputs": [],
   "source": [
    "# y_structure"
   ],
   "metadata": {
    "collapsed": false
   }
  },
  {
   "cell_type": "code",
   "execution_count": null,
   "outputs": [],
   "source": [
    "messages_pretty = pd.DataFrame(index=messages.index)\n",
    "\n",
    "messages_pretty['ИМЯ МАШИНЫ'] = messages['ИМЯ_МАШИНЫ']\n",
    "messages_pretty['НАЗВАНИЕ ТЕХ МЕСТА'] = messages['НАЗВАНИЕ_ТЕХ_МЕСТА'].map(clean_y_place_name)\n",
    "messages_pretty['НАЗВАНИЕ ТЕХ МЕСТА ПОЛНОЕ'] = messages['НАЗВАНИЕ_ТЕХ_МЕСТА']\n",
    "messages_pretty['ВИД СООБЩЕНИЯ'] = messages['ВИД_СООБЩЕНИЯ']\n",
    "messages_pretty['ОПИСАНИЕ'] = messages['ОПИСАНИЕ']\n",
    "messages_pretty['ДАТА НАЧАЛА НЕИСПРАВНОСТИ'] = messages['ДАТА_НАЧАЛА_НЕИСПРАВНОСТИ']\n",
    "messages_pretty['ДАТА УСТРАНЕНИЯ НЕИСПРАВНОСТИ'] = messages['ДАТА_УСТРАНЕНИЯ_НЕИСПРАВНОСТИ']\n",
    "messages_pretty['ДЛИТЕЛЬНОСТЬ НЕИСПРАВНОСТИ, СЕК'] = (messages['ДАТА_УСТРАНЕНИЯ_НЕИСПРАВНОСТИ'] - messages['ДАТА_НАЧАЛА_НЕИСПРАВНОСТИ']).dt.seconds\n",
    "messages_pretty['ТЕКСТ ГРУППЫ КОДОВ'] = messages['ТЕКСТ_ГРУППЫ_КОДОВ']\n",
    "\n",
    "# @NOTE: Согласно комментарию эксперта, незакрытые неисправности в тренировочном наборе это скорее ошибка заполнения\n",
    "messages_pretty = messages_pretty[messages_pretty['ДАТА УСТРАНЕНИЯ НЕИСПРАВНОСТИ'].notna()]\n",
    "\n",
    "# @NOTE: Согласно комментарию эксперта, запланированные остановки не нужно предсказывать\n",
    "messages_pretty = messages_pretty[messages_pretty['ТЕКСТ ГРУППЫ КОДОВ'] != 'ТЕХНИЧЕСКИЕ ПЛАНОВЫЕ']"
   ],
   "metadata": {
    "collapsed": false
   }
  },
  {
   "cell_type": "code",
   "execution_count": null,
   "outputs": [],
   "source": [
    "# messages_pretty"
   ],
   "metadata": {
    "collapsed": false
   }
  },
  {
   "cell_type": "code",
   "execution_count": null,
   "outputs": [],
   "source": [
    "def prettify_x(x):\n",
    "    x_pretty = pd.DataFrame()\n",
    "    for (machine, meter_names) in x_structure.transpose().iterrows():\n",
    "        x_pretty_slice = pd.DataFrame(index=x.index)\n",
    "        x_pretty_slice['ROW_IDX'] = 0\n",
    "        x_pretty_slice['DATASET_IDX'] = x['DATASET_IDX']\n",
    "        x_pretty_slice['ИМЯ МАШИНЫ'] = machine\n",
    "        x_pretty_slice[meter_names.index] = x[meter_names.values]\n",
    "        x_pretty_slice = x_pretty_slice.reset_index()\n",
    "        x_pretty = pd.concat([x_pretty, x_pretty_slice])\n",
    "    x_pretty['ROW_IDX'] = range(0, len(x_pretty))\n",
    "    return x_pretty"
   ],
   "metadata": {
    "collapsed": false
   }
  },
  {
   "cell_type": "code",
   "execution_count": null,
   "outputs": [],
   "source": [
    "# x_train_pretty = prettify_x(x_train)\n",
    "# x_train_pretty.to_parquet('../data/pipeline/x_train_pretty.parquet')\n",
    "x_train_pretty = pd.read_parquet('../data/pipeline/x_train_pretty.parquet')\n",
    "\n",
    "# x_train_pretty_1d = x_train_pretty.set_index(['ИМЯ МАШИНЫ', 'DT']) \\\n",
    "#     .groupby([pd.Grouper(level='ИМЯ МАШИНЫ'), pd.Grouper(level='DT', freq='1d')]).mean().reset_index()\n",
    "# x_train_pretty_1d.to_parquet('../data/pipeline/x_train_pretty_1d.parquet')\n",
    "x_train_pretty_1d = pd.read_parquet('../data/pipeline/x_train_pretty_1d.parquet')\n",
    "\n",
    "# x_train_pretty_1h = x_train_pretty.set_index(['ИМЯ МАШИНЫ', 'DT']) \\\n",
    "#     .groupby([pd.Grouper(level='ИМЯ МАШИНЫ'), pd.Grouper(level='DT', freq='1h')]).mean().reset_index()\n",
    "# x_train_pretty_1h.to_parquet('../data/pipeline/x_train_pretty_1h.parquet')\n",
    "x_train_pretty_1h = pd.read_parquet('../data/pipeline/x_train_pretty_1h.parquet')"
   ],
   "metadata": {
    "collapsed": false
   }
  },
  {
   "cell_type": "code",
   "execution_count": null,
   "outputs": [],
   "source": [
    "# x_train_pretty"
   ],
   "metadata": {
    "collapsed": false
   }
  },
  {
   "cell_type": "code",
   "execution_count": null,
   "outputs": [],
   "source": [
    "# px.line(x_train_pretty_1h, x='DT', y=x_structure.index, facet_row='ИМЯ МАШИНЫ', height=2000)\n",
    "# px.line(x_train_pretty_1d, x='DT', y=x_structure.index, facet_row='ИМЯ МАШИНЫ', height=2000)"
   ],
   "metadata": {
    "collapsed": false,
    "pycharm": {
     "is_executing": true
    }
   }
  },
  {
   "cell_type": "code",
   "execution_count": null,
   "outputs": [],
   "source": [
    "# x_test_pretty = prettify_x(x_test)\n",
    "# x_test_pretty.to_parquet('../data/pipeline/x_test_pretty.parquet')\n",
    "x_test_pretty = pd.read_parquet('../data/pipeline/x_test_pretty.parquet')\n",
    "\n",
    "# x_test_pretty_1d = x_test_pretty.set_index(['ИМЯ МАШИНЫ', 'DT']) \\\n",
    "#     .groupby([pd.Grouper(level='ИМЯ МАШИНЫ'), pd.Grouper(level='DT', freq='1d')]).mean().reset_index()\n",
    "# x_test_pretty_1d.to_parquet('../data/pipeline/x_test_pretty_1d.parquet')\n",
    "x_test_pretty_1d = pd.read_parquet('../data/pipeline/x_test_pretty_1d.parquet')\n",
    "\n",
    "# x_test_pretty_1h = x_test_pretty.set_index(['ИМЯ МАШИНЫ', 'DT']) \\\n",
    "#     .groupby([pd.Grouper(level='ИМЯ МАШИНЫ'), pd.Grouper(level='DT', freq='1h')]).mean().reset_index()\n",
    "# x_test_pretty_1h.to_parquet('../data/pipeline/x_test_pretty_1h.parquet')\n",
    "x_test_pretty_1h = pd.read_parquet('../data/pipeline/x_test_pretty_1h.parquet')"
   ],
   "metadata": {
    "collapsed": false
   }
  },
  {
   "cell_type": "code",
   "execution_count": null,
   "outputs": [],
   "source": [
    "# x_test_pretty"
   ],
   "metadata": {
    "collapsed": false
   }
  },
  {
   "cell_type": "code",
   "execution_count": null,
   "outputs": [],
   "source": [
    "# px.line(x_test_pretty_1h, x='DT', y=x_structure.index, facet_row='ИМЯ МАШИНЫ', height=2000)\n",
    "# px.line(x_test_pretty_1d, x='DT', y=x_structure.index, facet_row='ИМЯ МАШИНЫ', height=2000)"
   ],
   "metadata": {
    "collapsed": false,
    "pycharm": {
     "is_executing": true
    }
   }
  },
  {
   "cell_type": "code",
   "execution_count": null,
   "outputs": [],
   "source": [
    "def prettify_y(y):\n",
    "    y_pretty = pd.DataFrame()\n",
    "    for (machine, meter_names) in y_structure.transpose().iterrows():\n",
    "        present_meter_names = meter_names[meter_names.notna()]\n",
    "        y_pretty_slice = pd.DataFrame(index=y.index)\n",
    "        y_pretty_slice['ROW_IDX'] = 0\n",
    "        y_pretty_slice['DATASET_IDX'] = y['DATASET_IDX']\n",
    "        y_pretty_slice['ИМЯ МАШИНЫ'] = machine\n",
    "        y_pretty_slice[present_meter_names.index] = y[present_meter_names.values]\n",
    "        y_pretty_slice = y_pretty_slice.reset_index()\n",
    "        y_pretty = pd.concat([y_pretty, y_pretty_slice])\n",
    "    y_pretty['ROW_IDX'] = range(0, len(y_pretty))\n",
    "    return y_pretty"
   ],
   "metadata": {
    "collapsed": false
   }
  },
  {
   "cell_type": "code",
   "execution_count": null,
   "outputs": [],
   "source": [
    "# y_train_pretty = prettify_y(y_train)\n",
    "# y_train_pretty.to_parquet('../data/pipeline/y_train_pretty.parquet')\n",
    "y_train_pretty = pd.read_parquet('../data/pipeline/y_train_pretty.parquet')"
   ],
   "metadata": {
    "collapsed": false
   }
  },
  {
   "cell_type": "code",
   "execution_count": null,
   "outputs": [],
   "source": [
    "# y_train_pretty"
   ],
   "metadata": {
    "collapsed": false
   }
  }
 ],
 "metadata": {
  "kernelspec": {
   "display_name": "Python 3",
   "language": "python",
   "name": "python3"
  },
  "language_info": {
   "codemirror_mode": {
    "name": "ipython",
    "version": 2
   },
   "file_extension": ".py",
   "mimetype": "text/x-python",
   "name": "python",
   "nbconvert_exporter": "python",
   "pygments_lexer": "ipython2",
   "version": "2.7.6"
  }
 },
 "nbformat": 4,
 "nbformat_minor": 0
}
