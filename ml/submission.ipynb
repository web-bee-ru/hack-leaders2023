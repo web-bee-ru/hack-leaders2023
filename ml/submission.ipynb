{
 "cells": [
  {
   "cell_type": "code",
   "execution_count": 2,
   "metadata": {
    "collapsed": true
   },
   "outputs": [],
   "source": [
    "%load_ext autoreload\n",
    "%autoreload 2"
   ]
  },
  {
   "cell_type": "code",
   "execution_count": 3,
   "outputs": [],
   "source": [
    "import pandas as pd # 2.x to support pyarrow\n",
    "import pyarrow as pa\n",
    "import openpyxl # for reading xlsx with structure\n",
    "import numpy as np\n",
    "import plotly.express as px\n",
    "import math\n",
    "import re\n",
    "from datetime import timedelta, datetime\n",
    "import os\n",
    "\n",
    "import tensorflow as tf\n",
    "from tensorflow import keras"
   ],
   "metadata": {
    "collapsed": false
   }
  },
  {
   "cell_type": "code",
   "execution_count": 4,
   "outputs": [],
   "source": [
    "x_structure = pd.read_parquet('../data/pipeline/x_structure.parquet')\n",
    "y_structure = pd.read_parquet('../data/pipeline/y_structure.parquet')"
   ],
   "metadata": {
    "collapsed": false
   }
  },
  {
   "cell_type": "code",
   "execution_count": 5,
   "outputs": [],
   "source": [
    "x_test = pd.read_parquet('../data/source/X_test.parquet')"
   ],
   "metadata": {
    "collapsed": false
   }
  },
  {
   "cell_type": "code",
   "execution_count": 6,
   "outputs": [],
   "source": [
    "submission1_ref = pd.read_excel('../data/source/sample_submission/submission_1.xlsx', index_col=0)\n",
    "submission2_ref = pd.read_parquet('../data/source/sample_submission/sample_submission_2.parquet').set_index('DT')\n",
    "submission3_ref = pd.read_parquet('../data/source/sample_submission/sample_submission_3.parquet')"
   ],
   "metadata": {
    "collapsed": false
   }
  },
  {
   "cell_type": "code",
   "execution_count": 22,
   "outputs": [],
   "source": [
    "MAX_TTE = 31 * 24 * 60 * 60"
   ],
   "metadata": {
    "collapsed": false
   }
  },
  {
   "cell_type": "code",
   "execution_count": null,
   "outputs": [],
   "source": [
    "submission2 = pd.DataFrame(index=x_test.index, columns=submission2_ref.columns)\n",
    "submission3 = pd.DataFrame(index=x_test.index, columns=submission3_ref.columns)\n",
    "\n",
    "for place in y_structure.index:\n",
    "    try:\n",
    "        submission2_slice = pd.read_parquet(f'../dist/submission2/{place}.parquet')\n",
    "        submission2[submission2_slice.columns] = submission2_slice[submission2_slice.columns]\n",
    "        submission3_slice = pd.read_parquet(f'../dist/submission3/{place}.parquet')\n",
    "        submission3[submission3_slice.columns] = submission3_slice[submission3_slice.columns]\n",
    "        print(f'Найден файл для {place}')\n",
    "    except:\n",
    "        print(f'Не найден файл для {place}')\n",
    "\n",
    "submission2 = submission2.fillna(0)\n",
    "submission3 = submission3.fillna(MAX_TTE)"
   ],
   "metadata": {
    "collapsed": false,
    "pycharm": {
     "is_executing": true
    }
   }
  },
  {
   "cell_type": "code",
   "execution_count": 147,
   "outputs": [],
   "source": [
    "# submission2"
   ],
   "metadata": {
    "collapsed": false
   }
  },
  {
   "cell_type": "code",
   "execution_count": 148,
   "outputs": [],
   "source": [
    "# submission3"
   ],
   "metadata": {
    "collapsed": false
   }
  },
  {
   "cell_type": "code",
   "execution_count": 0,
   "outputs": [],
   "source": [
    "submission1 = submission1_ref.copy()\n",
    "submission1['machine'] = np.NaN\n",
    "submission1['tm'] = np.NaN\n",
    "\n",
    "labels = y_structure.unstack()\n",
    "for (idx, row) in submission1_ref.iterrows():\n",
    "    start = row['start']\n",
    "    finish = row['finish']\n",
    "    submission3_slice = submission3.loc[start:finish]\n",
    "    smallest_mean_row = submission3_slice.mean().sort_values().reset_index().iloc[0]\n",
    "    smallest_mean_value = smallest_mean_row[0]\n",
    "    if smallest_mean_value < 0.8 * MAX_TTE:\n",
    "        label = smallest_mean_row['index']\n",
    "        label_row = labels[labels == label]\n",
    "        machine, place = list(label_row.index)[0]\n",
    "        submission1['machine'].at[idx] = machine\n",
    "        submission1['tm'].at[idx] = label # @NOTE: Согласно примеру, ожидают в полной форме"
   ],
   "metadata": {
    "collapsed": false
   }
  },
  {
   "cell_type": "code",
   "execution_count": 149,
   "outputs": [],
   "source": [
    "# submission1\n",
    "# submission1[submission1[['machine', 'tm']].notna().any(axis=1)]"
   ],
   "metadata": {
    "collapsed": false
   }
  },
  {
   "cell_type": "code",
   "execution_count": 150,
   "outputs": [],
   "source": [
    "# @NOET: Пример sub 1 был сохранен в экселе, но мы умеем только csv\n",
    "submission1.to_csv('../dist/submission_1.csv')\n",
    "\n",
    "# @NOTE: Пример sub 2 сохранен без индекса, хз насколько это будет важно при автоматической проверк\n",
    "submission2.reset_index().to_parquet('../dist/submission_2.parquet')\n",
    "\n",
    "submission3.to_parquet('../dist/submission_3.parquet')"
   ],
   "metadata": {
    "collapsed": false
   }
  }
 ],
 "metadata": {
  "kernelspec": {
   "display_name": "Python 3",
   "language": "python",
   "name": "python3"
  },
  "language_info": {
   "codemirror_mode": {
    "name": "ipython",
    "version": 2
   },
   "file_extension": ".py",
   "mimetype": "text/x-python",
   "name": "python",
   "nbconvert_exporter": "python",
   "pygments_lexer": "ipython2",
   "version": "2.7.6"
  }
 },
 "nbformat": 4,
 "nbformat_minor": 0
}
