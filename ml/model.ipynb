{
 "cells": [
  {
   "cell_type": "code",
   "execution_count": null,
   "metadata": {
    "collapsed": true,
    "pycharm": {
     "is_executing": true
    }
   },
   "outputs": [],
   "source": [
    "%load_ext autoreload\n",
    "%autoreload 2"
   ]
  },
  {
   "cell_type": "code",
   "execution_count": 201,
   "outputs": [],
   "source": [
    "import pandas as pd # 2.x to support pyarrow\n",
    "import pyarrow as pa\n",
    "import openpyxl # for reading xlsx with structure\n",
    "import numpy as np\n",
    "import plotly.express as px\n",
    "import math\n",
    "import re\n",
    "from datetime import timedelta, datetime\n",
    "import os\n",
    "\n",
    "import tensorflow as tf\n",
    "from tensorflow import keras"
   ],
   "metadata": {
    "collapsed": false
   }
  },
  {
   "cell_type": "code",
   "execution_count": 202,
   "outputs": [],
   "source": [
    "x_structure = pd.read_parquet('../data/pipeline/x_structure.parquet')\n",
    "y_structure = pd.read_parquet('../data/pipeline/y_structure.parquet')"
   ],
   "metadata": {
    "collapsed": false
   }
  },
  {
   "cell_type": "code",
   "execution_count": 203,
   "outputs": [],
   "source": [
    "x_train_pretty_1h = pd.read_parquet('../data/pipeline/x_train_pretty_1h.parquet')\n",
    "x_test_pretty_1h = pd.read_parquet('../data/pipeline/x_test_pretty_1h.parquet')\n",
    "y_train_tte_1h = pd.read_parquet('../data/pipeline/y_train_tte_1h.parquet')"
   ],
   "metadata": {
    "collapsed": false
   }
  },
  {
   "cell_type": "code",
   "execution_count": 204,
   "outputs": [],
   "source": [
    "left_train = x_train_pretty_1h.set_index(['ИМЯ МАШИНЫ', 'DT']).astype('float64').sort_index().ffill()[x_structure.index]\n",
    "left_test = x_test_pretty_1h.set_index(['ИМЯ МАШИНЫ', 'DT']).astype('float64').sort_index().ffill()[x_structure.index]\n",
    "left_test_raw = x_test_pretty_1h.set_index(['ИМЯ МАШИНЫ', 'DT']).astype('float64').sort_index()[x_structure.index]\n",
    "left_stats = left_train.describe()\n",
    "left_train = left_train / left_stats.loc['std']\n",
    "left_test = left_test / left_stats.loc['std']\n",
    "MAX_TTE = 31 * 24 * 60 * 60"
   ],
   "metadata": {
    "collapsed": false
   }
  },
  {
   "cell_type": "code",
   "execution_count": null,
   "outputs": [],
   "source": [
    "def train_model(target_place_name_and_type):\n",
    "    # model_path = f'../dist/models/{target_place_name_and_type}.h5'\n",
    "    # if os.path.isfile(model_path):\n",
    "    #     return\n",
    "\n",
    "    right = y_train_tte_1h.set_index(['ИМЯ МАШИНЫ', 'DT'])[[target_place_name_and_type]].astype('float64') / MAX_TTE\n",
    "    data = pd.merge(left_train, right, left_index=True, right_index=True)\n",
    "\n",
    "    batches = None\n",
    "    for machine in x_structure.columns:\n",
    "        seq = data.loc[machine].sort_index().astype('float64').ffill().fillna(0)\n",
    "        X = seq[x_structure.index]\n",
    "        Y = seq.drop(x_structure.index, axis=1)\n",
    "        machine_examples = keras.utils.timeseries_dataset_from_array(X, Y, sequence_length=24 * 7, sequence_stride=24, seed=1337)\n",
    "        if batches is None:\n",
    "            batches = machine_examples\n",
    "        else:\n",
    "            batches = batches.concatenate(machine_examples)\n",
    "\n",
    "    model = keras.Sequential([\n",
    "        keras.Input((24*7, len(x_structure.index))),\n",
    "        keras.layers.Dense(24*3, activation='relu'),\n",
    "        keras.layers.Dense(1, activation='sigmoid'),\n",
    "    ])\n",
    "\n",
    "    model.compile(loss='mse', optimizer='adam')\n",
    "    # model.summary()\n",
    "\n",
    "    print(str(datetime.now()) + ' -- ' + target_place_name_and_type)\n",
    "    history = model.fit(batches, epochs=1000)\n",
    "    # px.line(history.history).show()\n",
    "\n",
    "    # model.save(model_path, save_format='h5')\n",
    "    return history\n",
    "\n",
    "\n",
    "history = train_model('РОТОР TTE M3')\n",
    "px.line(history.history).show()"
   ],
   "metadata": {
    "collapsed": false
   }
  },
  {
   "cell_type": "code",
   "execution_count": null,
   "outputs": [],
   "source": [
    "def evaluate_model(target_place_name_and_type, machine):\n",
    "    model = keras.models.load_model(f'../dist/models/{target_place_name_and_type}.h5', compile=False)\n",
    "    right = y_train_tte_1h.set_index(['ИМЯ МАШИНЫ', 'DT'])[[target_place_name_and_type]].astype('float64') / MAX_TTE\n",
    "\n",
    "    input_df = left_train.loc[machine].astype('float64').ffill()\n",
    "    result = pd.DataFrame(index=right.loc[machine].index)\n",
    "    result['ПРОГНОЗ'] = 0\n",
    "\n",
    "    x = 0\n",
    "    while x < len(input_df) - 24*7 - 24:\n",
    "        window = input_df.iloc[x:x+24*7]\n",
    "        if len(window) < 24:\n",
    "            break\n",
    "        input = np.array([window])\n",
    "        output = model.predict(input, verbose=0)\n",
    "        result['ПРОГНОЗ'].iloc[x+24*7:x+24*7+24] = output[0][-24:].reshape((24))\n",
    "\n",
    "        print(\"{:3.2f}%\".format(100 * x / len(input_df)))\n",
    "        x += 24\n",
    "\n",
    "# evaluate_model('УЛИТА TTE M3', 'ЭКСГАУСТЕР А/М №4')"
   ],
   "metadata": {
    "collapsed": false
   }
  },
  {
   "cell_type": "code",
   "execution_count": 205,
   "outputs": [],
   "source": [
    "submission1_ref = pd.read_excel('../data/source/sample_submission/submission_1.xlsx', index_col=0)\n",
    "submission2_ref = pd.read_parquet('../data/source/sample_submission/sample_submission_2.parquet')\n",
    "submission3_ref = pd.read_parquet('../data/source/sample_submission/sample_submission_3.parquet')"
   ],
   "metadata": {
    "collapsed": false
   }
  },
  {
   "cell_type": "code",
   "execution_count": 206,
   "outputs": [],
   "source": [
    "x_test = pd.read_parquet('../data/source/X_test.parquet')"
   ],
   "metadata": {
    "collapsed": false
   }
  },
  {
   "cell_type": "code",
   "execution_count": null,
   "outputs": [],
   "source": [
    "# submission1 = submission1_ref.copy()\n",
    "# submission1['machine'] = np.NaN\n",
    "# submission1['tm'] = np.NaN\n",
    "# submission2 = pd.DataFrame(index=x_test.index, columns=submission2_ref.columns)\n",
    "# submission3 = pd.DataFrame(index=x_test.index, columns=submission3_ref.columns)\n",
    "\n",
    "def apply_model(target_place_name):\n",
    "    # submission2_slice_path = f'../dist/submission2/{place}.parquet'\n",
    "    # submission3_slice_path = f'../dist/submission3/{place}.parquet'\n",
    "    # if os.path.isfile(submission2_slice_path) and os.path.isfile(submission3_slice_path):\n",
    "    #     return\n",
    "    #\n",
    "    submission2_slice = pd.DataFrame(index=x_test.index)\n",
    "    submission3_slice = pd.DataFrame(index=x_test.index)\n",
    "\n",
    "    print(str(datetime.now()) + ' -- ' + target_place_name)\n",
    "    for machine in y_structure.columns:\n",
    "        prediction_field_m1 = f'{target_place_name} TTE M1'\n",
    "        prediction_field_m3 = f'{target_place_name} TTE M3'\n",
    "        model_m1 = keras.models.load_model(f'../dist/models/{prediction_field_m1}.h5', compile=False)\n",
    "        model_m3 = keras.models.load_model(f'../dist/models/{prediction_field_m3}.h5', compile=False)\n",
    "        y_name = y_structure[machine].loc[target_place_name]\n",
    "        if y_name not in submission2_ref.columns:\n",
    "            continue\n",
    "\n",
    "        input_df = left_test.loc[machine].astype('float64').ffill()\n",
    "        input_raw_df = left_test_raw.loc[machine].astype('float64')\n",
    "        result = pd.DataFrame(index=left_test.loc[machine].index, columns=[prediction_field_m1, prediction_field_m3])\n",
    "\n",
    "        x = 0\n",
    "        while x < len(input_df) - 24*7 - 24:\n",
    "            window = input_df.iloc[x:x+24*7]\n",
    "            if len(window) < 24:\n",
    "                break\n",
    "            input = np.array([window])\n",
    "            output_m1 = model_m1.predict(input, verbose=0)\n",
    "            output_m3 = model_m3.predict(input, verbose=0)\n",
    "            result[prediction_field_m1].iloc[x+24*7:x+24*7+24] = output_m1[0][-24:].reshape((24))\n",
    "            result[prediction_field_m3].iloc[x+24*7:x+24*7+24] = output_m3[0][-24:].reshape((24))\n",
    "            x += 24\n",
    "            # break\n",
    "\n",
    "        upsampled = result.rolling(72).mean().resample('10s').interpolate().fillna(1)\n",
    "        submission2_slice[y_name] = upsampled[prediction_field_m3].map(lambda x: 1 if x < 0.2 else 0)\n",
    "        submission3_slice[y_name] = upsampled[prediction_field_m1] * MAX_TTE\n",
    "\n",
    "    # submission2_slice.to_parquet(submission2_slice_path)\n",
    "    # submission3_slice.to_parquet(submission3_slice_path)\n",
    "\n",
    "for place in y_structure.index:\n",
    "    apply_model(place)\n",
    "\n",
    "# for place in ['РОТОР']:\n",
    "#     apply_model(place)"
   ],
   "metadata": {
    "collapsed": false
   }
  },
  {
   "cell_type": "code",
   "execution_count": null,
   "outputs": [],
   "source": [
    "def prepare_results(target_place_name):\n",
    "    m1_slice_path = f'../data/pipeline/db/tms/m1/{target_place_name}.parquet'\n",
    "    m3_slice_path = f'../data/pipeline/db/tms/m3/{target_place_name}.parquet'\n",
    "\n",
    "    if os.path.isfile(m1_slice_path) and os.path.isfile(m3_slice_path):\n",
    "        return\n",
    "\n",
    "    left = pd.concat([left_train, left_test])\n",
    "\n",
    "    m1_slice = pd.DataFrame(index=left.index)\n",
    "    m3_slice = pd.DataFrame(index=left.index)\n",
    "\n",
    "    prediction_field_m1 = f'{target_place_name} TTE M1'\n",
    "    prediction_field_m3 = f'{target_place_name} TTE M3'\n",
    "    model_m1 = keras.models.load_model(f'../dist/models/{prediction_field_m1}.h5', compile=False)\n",
    "    model_m3 = keras.models.load_model(f'../dist/models/{prediction_field_m3}.h5', compile=False)\n",
    "\n",
    "    print(str(datetime.now()) + ' -- ' + target_place_name)\n",
    "    for machine in y_structure.columns:\n",
    "        input_df = left.loc[machine].astype('float64').ffill()\n",
    "        result = pd.DataFrame(index=left.loc[machine].index, columns=[prediction_field_m1, prediction_field_m3])\n",
    "\n",
    "        # @NOTE: Шаг в неделю\n",
    "        x = 0\n",
    "        while x < len(input_df) - 24*7 - 24:\n",
    "            window = input_df.iloc[x:x+24*7]\n",
    "            if len(window) < 24:\n",
    "                break\n",
    "            input = np.array([window])\n",
    "            output_m1 = model_m1.predict(input, verbose=0)\n",
    "            output_m3 = model_m3.predict(input, verbose=0)\n",
    "            result[prediction_field_m1].iloc[x:x+24*7] = output_m1[0].reshape((24*7,))\n",
    "            result[prediction_field_m3].iloc[x:x+24*7] = output_m3[0].reshape((24*7,))\n",
    "            x += 7 * 24\n",
    "\n",
    "        # upsampled = result.rolling(72).mean().fillna(1)\n",
    "        upsampled = result.fillna(1)\n",
    "        m1_slice.loc[machine, target_place_name] = upsampled[prediction_field_m1].values * MAX_TTE\n",
    "        m3_slice.loc[machine, target_place_name] = upsampled[prediction_field_m3].values * MAX_TTE\n",
    "\n",
    "    m1_slice.to_parquet(m1_slice_path)\n",
    "    m3_slice.to_parquet(m3_slice_path)\n",
    "\n",
    "for target_place_name in y_structure.index:\n",
    "    prepare_results(target_place_name)\n",
    "\n",
    "# for place in ['РОТОР']:\n",
    "#     prepare_results(place)"
   ],
   "metadata": {
    "collapsed": false
   }
  },
  {
   "cell_type": "code",
   "execution_count": 207,
   "outputs": [],
   "source": [
    "def glue_results():\n",
    "    m1_predictions = None\n",
    "    m3_predictions = None\n",
    "\n",
    "    for target_place_name in y_structure.index:\n",
    "        m1_slice_path = f'../data/pipeline/db/tms/m1/{target_place_name}.parquet'\n",
    "        m3_slice_path = f'../data/pipeline/db/tms/m3/{target_place_name}.parquet'\n",
    "\n",
    "        if not(os.path.isfile(m1_slice_path) and os.path.isfile(m3_slice_path)):\n",
    "            continue\n",
    "\n",
    "        m1_slice = pd.read_parquet(m1_slice_path)\n",
    "        if m1_predictions is None:\n",
    "            m1_predictions = m1_slice\n",
    "        else:\n",
    "            m1_predictions = m1_predictions.merge(m1_slice, left_index=True, right_index=True)\n",
    "\n",
    "        m3_slice = pd.read_parquet(m3_slice_path)\n",
    "        if m3_predictions is None:\n",
    "            m3_predictions = m3_slice\n",
    "        else:\n",
    "            m3_predictions = m3_predictions.merge(m3_slice, left_index=True, right_index=True)\n",
    "\n",
    "    return m1_predictions, m3_predictions\n",
    "\n",
    "m1_predictions, m3_predictions = glue_results()\n",
    "\n",
    "# tmp_m1 = m1_predictions.copy().reset_index()\n",
    "# tmp_m1['machine_id'] = tmp_m1['ИМЯ МАШИНЫ'].str.extract('№(\\\\d+)').astype(int)\n",
    "# tmp_m1 = tmp_m1.drop(['ИМЯ МАШИНЫ'], axis=1)\n",
    "# tmp_m1.to_csv('../data/pipeline/db/tm_m1_predictions.csv')\n",
    "# tmp_m1.set_index(['machine_id', 'DT']).rolling(14, center=True).quantile(0.1).reset_index().to_csv('../data/pipeline/db/tm_m1_predictions_smooth.csv')\n",
    "#\n",
    "# tmp_m3 = m3_predictions.copy().reset_index()\n",
    "# tmp_m3['machine_id'] = tmp_m3['ИМЯ МАШИНЫ'].str.extract('№(\\\\d+)').astype(int)\n",
    "# tmp_m3 = tmp_m3.drop(['ИМЯ МАШИНЫ'], axis=1)\n",
    "# tmp_m3.to_csv('../data/pipeline/db/tm_m3_predictions.csv')\n",
    "# tmp_m3.set_index(['machine_id', 'DT']).rolling(14, center=True).quantile(0.1).reset_index().to_csv('../data/pipeline/db/tm_m3_predictions_smooth.csv')"
   ],
   "metadata": {
    "collapsed": false
   }
  },
  {
   "cell_type": "code",
   "execution_count": 208,
   "outputs": [],
   "source": [
    "metrics = []\n",
    "\n",
    "def wrmse_metric(y_true, y_pred):\n",
    "    t = y_true\n",
    "    a = 30\n",
    "    weights = 1 / ((a * t).clip(lower=1)) # @NOTE: clip чтобы не получать бесконечности когда t стремится к 0\n",
    "    e = y_pred - y_true\n",
    "    se = e ** 2\n",
    "    wse = se * weights\n",
    "    wmse = wse.mean()\n",
    "    wrmse = wmse ** 0.5\n",
    "    average_wrmse = wrmse\n",
    "    return average_wrmse\n",
    "\n",
    "tmp = y_train_tte_1h.set_index(['ИМЯ МАШИНЫ', 'DT']).sort_index()\n",
    "\n",
    "for place in y_structure.index:\n",
    "    m1_true = tmp[f'{place} TTE M1'] / MAX_TTE\n",
    "    m1_pred = m1_predictions.loc[tmp.index][place] / MAX_TTE\n",
    "\n",
    "    m3_true = tmp[f'{place} TTE M3'] / MAX_TTE\n",
    "    m3_pred = m3_predictions.loc[tmp.index][place] / MAX_TTE\n",
    "\n",
    "    m1_metric = wrmse_metric(m1_true, m1_pred)\n",
    "    m3_metric = wrmse_metric(m3_true, m3_pred)\n",
    "\n",
    "    ones = pd.Series(np.ones(m1_pred.shape), index=m1_pred.index)\n",
    "    m1_ones_metric = wrmse_metric(m1_true, ones)\n",
    "    m3_ones_metric = wrmse_metric(m3_true, ones)\n",
    "\n",
    "    zeros = pd.Series(np.zeros(m1_pred.shape), index=m1_pred.index)\n",
    "    m1_zeros_metric = wrmse_metric(m1_true, zeros)\n",
    "    m3_zeros_metric = wrmse_metric(m3_true, zeros)\n",
    "\n",
    "    random = pd.Series(np.random.uniform(0, 1, m1_pred.shape), index=m1_pred.index)\n",
    "    m1_random_metric = wrmse_metric(m1_true, random)\n",
    "    m3_random_metric = wrmse_metric(m3_true, random)\n",
    "\n",
    "    metrics.append(dict(\n",
    "        m1_metric=m1_metric, m3_metric=m3_metric,\n",
    "        m1_ones_metric=m1_ones_metric, m3_ones_metric=m3_ones_metric,\n",
    "        m1_zeros_metric=m1_zeros_metric, m3_zeros_metric=m3_zeros_metric,\n",
    "        m1_random_metric=m1_random_metric, m3_random_metric=m3_random_metric,\n",
    "    ))"
   ],
   "metadata": {
    "collapsed": false
   }
  },
  {
   "cell_type": "code",
   "execution_count": 209,
   "outputs": [
    {
     "data": {
      "text/plain": "                      mean       std       min       25%       50%       75%   \nm1_metric         0.009813  0.016128  0.000001  0.000001  0.000001  0.021628  \\\nm1_ones_metric    0.012064  0.020901  0.000000  0.000000  0.000000  0.021657   \nm1_random_metric  0.106021  0.001443  0.105210  0.105386  0.105447  0.106030   \nm1_zeros_metric   0.182334  0.000572  0.179343  0.182355  0.182574  0.182574   \nm3_metric         0.067177  0.055543  0.000001  0.021823  0.056697  0.099612   \nm3_ones_metric    0.217369  0.205348  0.000000  0.026711  0.154284  0.391190   \nm3_random_metric  0.178596  0.087316  0.105170  0.106394  0.137474  0.245097   \nm3_zeros_metric   0.172443  0.014646  0.125493  0.165383  0.179690  0.182243   \n\n                       max  \nm1_metric         0.056858  \nm1_ones_metric    0.086241  \nm1_random_metric  0.113182  \nm1_zeros_metric   0.182574  \nm3_metric         0.216943  \nm3_ones_metric    0.687090  \nm3_random_metric  0.403088  \nm3_zeros_metric   0.182574  ",
      "text/html": "<div>\n<style scoped>\n    .dataframe tbody tr th:only-of-type {\n        vertical-align: middle;\n    }\n\n    .dataframe tbody tr th {\n        vertical-align: top;\n    }\n\n    .dataframe thead th {\n        text-align: right;\n    }\n</style>\n<table border=\"1\" class=\"dataframe\">\n  <thead>\n    <tr style=\"text-align: right;\">\n      <th></th>\n      <th>mean</th>\n      <th>std</th>\n      <th>min</th>\n      <th>25%</th>\n      <th>50%</th>\n      <th>75%</th>\n      <th>max</th>\n    </tr>\n  </thead>\n  <tbody>\n    <tr>\n      <th>m1_metric</th>\n      <td>0.009813</td>\n      <td>0.016128</td>\n      <td>0.000001</td>\n      <td>0.000001</td>\n      <td>0.000001</td>\n      <td>0.021628</td>\n      <td>0.056858</td>\n    </tr>\n    <tr>\n      <th>m1_ones_metric</th>\n      <td>0.012064</td>\n      <td>0.020901</td>\n      <td>0.000000</td>\n      <td>0.000000</td>\n      <td>0.000000</td>\n      <td>0.021657</td>\n      <td>0.086241</td>\n    </tr>\n    <tr>\n      <th>m1_random_metric</th>\n      <td>0.106021</td>\n      <td>0.001443</td>\n      <td>0.105210</td>\n      <td>0.105386</td>\n      <td>0.105447</td>\n      <td>0.106030</td>\n      <td>0.113182</td>\n    </tr>\n    <tr>\n      <th>m1_zeros_metric</th>\n      <td>0.182334</td>\n      <td>0.000572</td>\n      <td>0.179343</td>\n      <td>0.182355</td>\n      <td>0.182574</td>\n      <td>0.182574</td>\n      <td>0.182574</td>\n    </tr>\n    <tr>\n      <th>m3_metric</th>\n      <td>0.067177</td>\n      <td>0.055543</td>\n      <td>0.000001</td>\n      <td>0.021823</td>\n      <td>0.056697</td>\n      <td>0.099612</td>\n      <td>0.216943</td>\n    </tr>\n    <tr>\n      <th>m3_ones_metric</th>\n      <td>0.217369</td>\n      <td>0.205348</td>\n      <td>0.000000</td>\n      <td>0.026711</td>\n      <td>0.154284</td>\n      <td>0.391190</td>\n      <td>0.687090</td>\n    </tr>\n    <tr>\n      <th>m3_random_metric</th>\n      <td>0.178596</td>\n      <td>0.087316</td>\n      <td>0.105170</td>\n      <td>0.106394</td>\n      <td>0.137474</td>\n      <td>0.245097</td>\n      <td>0.403088</td>\n    </tr>\n    <tr>\n      <th>m3_zeros_metric</th>\n      <td>0.172443</td>\n      <td>0.014646</td>\n      <td>0.125493</td>\n      <td>0.165383</td>\n      <td>0.179690</td>\n      <td>0.182243</td>\n      <td>0.182574</td>\n    </tr>\n  </tbody>\n</table>\n</div>"
     },
     "execution_count": 209,
     "metadata": {},
     "output_type": "execute_result"
    }
   ],
   "source": [
    "pd.DataFrame(metrics).describe().drop(['count']).transpose().sort_index()"
   ],
   "metadata": {
    "collapsed": false
   }
  },
  {
   "cell_type": "code",
   "execution_count": 278,
   "outputs": [
    {
     "data": {
      "text/plain": "{'j': 0.7704384242603081, 'tp': 678841, 'fp': 71851, 'fn': 130418}"
     },
     "metadata": {},
     "output_type": "display_data"
    }
   ],
   "source": [
    "tmp = y_train_tte_1h.set_index(['ИМЯ МАШИНЫ', 'DT']).sort_index()\n",
    "\n",
    "tp = 0 # сумма моментов времени, верно определенных как М3\n",
    "fp = 0 # сумма моментов времени, ошибочно определенных как М3\n",
    "fn = 0 # сумма моментов времени, ошибочно определенных как не М3\n",
    "for place in y_structure.index:\n",
    "    threshold = 0.5\n",
    "    m3_true = tmp[f'{place} TTE M3'] / MAX_TTE < threshold\n",
    "    m3_pred = m3_predictions.loc[tmp.index][place] / MAX_TTE < threshold\n",
    "    tp += (m3_pred & m3_true).sum()\n",
    "    fp += (m3_pred & ~m3_true).sum()\n",
    "    fn += (~m3_pred & m3_true).sum()\n",
    "\n",
    "j = tp / (tp + fp + fn)\n",
    "\n",
    "display(dict(j=j, tp=tp, fp=fp, fn=fn))"
   ],
   "metadata": {
    "collapsed": false
   }
  },
  {
   "cell_type": "code",
   "execution_count": 275,
   "outputs": [],
   "source": [
    "messages_pretty = pd.read_parquet('../data/pipeline/messages_pretty.parquet')"
   ],
   "metadata": {
    "collapsed": false
   }
  },
  {
   "cell_type": "code",
   "execution_count": 426,
   "outputs": [
    {
     "data": {
      "text/plain": "{'f1': 0.6201550387596899, 'tp': 80, 'fp': 7, 'fn': 91}"
     },
     "metadata": {},
     "output_type": "display_data"
    }
   ],
   "source": [
    "tmp1 = y_train_tte_1h.set_index(['DT', 'ИМЯ МАШИНЫ']).sort_index()\\\n",
    "    .drop(['ROW_IDX_x', 'ROW_IDX_y', 'DATASET_IDX_x', 'DATASET_IDX_y'], axis=1)\n",
    "tmp2 = m1_predictions.swaplevel().sort_index()\n",
    "\n",
    "tp = 0 # сумма моментов времени, верно определенных как М1\n",
    "fp = 0 # сумма моментов времени, ошибочно определенных как М1\n",
    "fn = 0 # сумма моментов времени, ошибочно определенных как не М1\n",
    "for place in y_structure.index:\n",
    "    threshold = 0.9\n",
    "    for idx, message in messages_pretty[messages_pretty['ВИД СООБЩЕНИЯ'] == 'M1'].iterrows():\n",
    "        start = message['ДАТА НАЧАЛА НЕИСПРАВНОСТИ'] - timedelta(days=1) # @NOTE: Большинство М1 слишком короткие\n",
    "        end = message['ДАТА УСТРАНЕНИЯ НЕИСПРАВНОСТИ']\n",
    "        m1_true = tmp1.loc[start:end][f'{place} TTE M1'].reset_index().drop('DT', axis=1) \\\n",
    "                      .groupby('ИМЯ МАШИНЫ')[f'{place} TTE M1'].mean() / MAX_TTE < threshold\n",
    "\n",
    "        m1_pred = tmp2.loc[start:end][place].reset_index().drop('DT', axis=1).groupby('ИМЯ МАШИНЫ')[place].mean() / MAX_TTE < threshold\n",
    "        tp += (m1_pred & m1_true).sum()\n",
    "        fp += (m1_pred & ~m1_true).sum()\n",
    "        fn += (~m1_pred & m1_true).sum()\n",
    "\n",
    "f1 = 2 * tp / (2 * tp + fp + fn)\n",
    "display(dict(f1=f1, tp=tp, fp=fp, fn=fn))"
   ],
   "metadata": {
    "collapsed": false
   }
  },
  {
   "cell_type": "code",
   "execution_count": null,
   "outputs": [],
   "source": [
    "# tmp0 = m3_predictions.rolling(14).quantile(0.1)\n",
    "# m3_pred = tmp0.loc['ЭКСГАУСТЕР А/М №4']['РОТОР']\n",
    "# m3_true = y_train_tte_1h.set_index(['ИМЯ МАШИНЫ', 'DT']).loc['ЭКСГАУСТЕР А/М №4']['РОТОР TTE M3']\n",
    "# tmp = pd.merge(m3_true, m3_pred, left_index=True, right_index=True, how='outer')\n",
    "# px.line(tmp)"
   ],
   "metadata": {
    "collapsed": false,
    "pycharm": {
     "is_executing": true
    }
   }
  }
 ],
 "metadata": {
  "kernelspec": {
   "display_name": "Python 3",
   "language": "python",
   "name": "python3"
  },
  "language_info": {
   "codemirror_mode": {
    "name": "ipython",
    "version": 2
   },
   "file_extension": ".py",
   "mimetype": "text/x-python",
   "name": "python",
   "nbconvert_exporter": "python",
   "pygments_lexer": "ipython2",
   "version": "2.7.6"
  }
 },
 "nbformat": 4,
 "nbformat_minor": 0
}
