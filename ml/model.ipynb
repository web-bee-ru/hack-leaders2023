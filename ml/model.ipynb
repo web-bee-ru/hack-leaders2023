{
 "cells": [
  {
   "cell_type": "code",
   "execution_count": null,
   "metadata": {
    "collapsed": true
   },
   "outputs": [],
   "source": [
    "%load_ext autoreload\n",
    "%autoreload 2"
   ]
  },
  {
   "cell_type": "code",
   "execution_count": null,
   "outputs": [],
   "source": [
    "import pandas as pd # 2.x to support pyarrow\n",
    "import pyarrow as pa\n",
    "import openpyxl # for reading xlsx with structure\n",
    "import numpy as np\n",
    "import plotly.express as px\n",
    "import math\n",
    "import re\n",
    "from datetime import timedelta, datetime\n",
    "\n",
    "import tensorflow as tf\n",
    "from tensorflow import keras"
   ],
   "metadata": {
    "collapsed": false
   }
  },
  {
   "cell_type": "code",
   "execution_count": null,
   "outputs": [],
   "source": [
    "x_structure = pd.read_parquet('../data/pipeline/x_structure.parquet')\n",
    "y_structure = pd.read_parquet('../data/pipeline/y_structure.parquet')"
   ],
   "metadata": {
    "collapsed": false
   }
  },
  {
   "cell_type": "code",
   "execution_count": null,
   "outputs": [],
   "source": [
    "x_train_pretty_1h = pd.read_parquet('../data/pipeline/x_train_pretty_1h.parquet')\n",
    "x_test_pretty_1h = pd.read_parquet('../data/pipeline/x_test_pretty_1h.parquet')\n",
    "y_train_tte_1h = pd.read_parquet('../data/pipeline/y_train_tte_1h.parquet')"
   ],
   "metadata": {
    "collapsed": false
   }
  },
  {
   "cell_type": "code",
   "execution_count": null,
   "outputs": [],
   "source": [
    "left = x_train_pretty_1h.set_index(['ИМЯ МАШИНЫ', 'DT']).astype('float64').sort_index().ffill()[x_structure.index]\n",
    "left_stats = left.describe()\n",
    "left = left / left_stats.loc['std']\n",
    "MAX_TTE = 31 * 24 * 60 * 60"
   ],
   "metadata": {
    "collapsed": false
   }
  },
  {
   "cell_type": "code",
   "execution_count": null,
   "outputs": [],
   "source": [
    "def train_model(target_place_name_and_type):\n",
    "    right = y_train_tte_1h.set_index(['ИМЯ МАШИНЫ', 'DT'])[[target_place_name_and_type]].astype('float64') / MAX_TTE\n",
    "    data = pd.merge(left, right, left_index=True, right_index=True)\n",
    "\n",
    "    batches = None\n",
    "    for machine in x_structure.columns:\n",
    "        seq = data.loc[machine].sort_index().astype('float64').ffill().fillna(0)\n",
    "        X = seq[x_structure.index]\n",
    "        Y = seq.drop(x_structure.index, axis=1)\n",
    "        machine_examples = keras.utils.timeseries_dataset_from_array(X, Y, sequence_length=24 * 7, sequence_stride=24, seed=1337)\n",
    "        if batches is None:\n",
    "            batches = machine_examples\n",
    "        else:\n",
    "            batches = batches.concatenate(machine_examples)\n",
    "\n",
    "    model = keras.Sequential([\n",
    "        keras.Input((24*7, len(x_structure.index))),\n",
    "        keras.layers.Dense(24*3, activation='relu'),\n",
    "        keras.layers.Dense(1, activation='sigmoid'),\n",
    "    ])\n",
    "\n",
    "    model.compile(loss='mse', optimizer='adam')\n",
    "    # model.summary()\n",
    "\n",
    "    print(str(datetime.now()) + ' -- ' + target_place_name_and_type)\n",
    "    history = model.fit(batches, epochs=1000, verbose=0)\n",
    "    # px.line(history.history).show()\n",
    "\n",
    "    model.save(f'../dist/models/{target_place_name_and_type}.h5', save_format='h5')\n",
    "    return model\n",
    "\n",
    "for place in y_structure.index:\n",
    "    for type in ['TTE M1', 'TTE M3']:\n",
    "        train_model(place + ' ' + type)"
   ],
   "metadata": {
    "collapsed": false
   }
  },
  {
   "cell_type": "code",
   "execution_count": null,
   "outputs": [],
   "source": [
    "def validate_model(target_place_name_and_type, machine):\n",
    "    model = keras.models.load_model(f'../dist/models/{target_place_name_and_type}.h5')\n",
    "    right = y_train_tte_1h.set_index(['ИМЯ МАШИНЫ', 'DT'])[[target_place_name_and_type]].astype('float64') / MAX_TTE\n",
    "\n",
    "    input_df = left.loc[machine].astype('float64').ffill()\n",
    "    result = pd.DataFrame(index=right.loc[machine].index)\n",
    "    result['ПРОГНОЗ'] = 0\n",
    "\n",
    "    x = 0\n",
    "    while x < len(input_df) - 24*7 - 24:\n",
    "        window = input_df.iloc[x:x+24*7]\n",
    "        if len(window) < 24:\n",
    "            break\n",
    "        input = np.array([window])\n",
    "        output = model.predict(input, verbose=0)\n",
    "        result['ПРОГНОЗ'].iloc[x+24*7:x+24*7+24] = output[0][-24:].reshape((24))\n",
    "\n",
    "        print(\"{:3.2f}%\".format(100 * x / len(input_df)))\n",
    "        x += 24\n",
    "\n",
    "    px.line(right.loc[machine].merge(result, left_index=True, right_index=True).rolling(72).mean()).show()\n",
    "\n",
    "validate_model('РЕДУКТОР ГАЗ. ЗАДВИЖКИ TTE M3', 'ЭКСГАУСТЕР А/М №5')"
   ],
   "metadata": {
    "collapsed": false
   }
  }
 ],
 "metadata": {
  "kernelspec": {
   "display_name": "Python 3",
   "language": "python",
   "name": "python3"
  },
  "language_info": {
   "codemirror_mode": {
    "name": "ipython",
    "version": 2
   },
   "file_extension": ".py",
   "mimetype": "text/x-python",
   "name": "python",
   "nbconvert_exporter": "python",
   "pygments_lexer": "ipython2",
   "version": "2.7.6"
  }
 },
 "nbformat": 4,
 "nbformat_minor": 0
}
