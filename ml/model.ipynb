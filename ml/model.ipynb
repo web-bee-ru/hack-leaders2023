{
 "cells": [
  {
   "cell_type": "code",
   "execution_count": null,
   "metadata": {
    "collapsed": true
   },
   "outputs": [],
   "source": [
    "%load_ext autoreload\n",
    "%autoreload 2"
   ]
  },
  {
   "cell_type": "code",
   "execution_count": null,
   "outputs": [],
   "source": [
    "import pandas as pd # 2.x to support pyarrow\n",
    "import pyarrow as pa\n",
    "import openpyxl # for reading xlsx with structure\n",
    "import numpy as np\n",
    "import plotly.express as px\n",
    "import math\n",
    "import re\n",
    "from datetime import timedelta, datetime\n",
    "import os\n",
    "\n",
    "import tensorflow as tf\n",
    "from tensorflow import keras"
   ],
   "metadata": {
    "collapsed": false
   }
  },
  {
   "cell_type": "code",
   "execution_count": null,
   "outputs": [],
   "source": [
    "x_structure = pd.read_parquet('../data/pipeline/x_structure.parquet')\n",
    "y_structure = pd.read_parquet('../data/pipeline/y_structure.parquet')"
   ],
   "metadata": {
    "collapsed": false
   }
  },
  {
   "cell_type": "code",
   "execution_count": null,
   "outputs": [],
   "source": [
    "x_train_pretty_1h = pd.read_parquet('../data/pipeline/x_train_pretty_1h.parquet')\n",
    "x_test_pretty_1h = pd.read_parquet('../data/pipeline/x_test_pretty_1h.parquet')\n",
    "y_train_tte_1h = pd.read_parquet('../data/pipeline/y_train_tte_1h.parquet')"
   ],
   "metadata": {
    "collapsed": false
   }
  },
  {
   "cell_type": "code",
   "execution_count": null,
   "outputs": [],
   "source": [
    "left_train = x_train_pretty_1h.set_index(['ИМЯ МАШИНЫ', 'DT']).astype('float64').sort_index().ffill()[x_structure.index]\n",
    "left_test = x_test_pretty_1h.set_index(['ИМЯ МАШИНЫ', 'DT']).astype('float64').sort_index().ffill()[x_structure.index]\n",
    "left_test_raw = x_test_pretty_1h.set_index(['ИМЯ МАШИНЫ', 'DT']).astype('float64').sort_index()[x_structure.index]\n",
    "left_stats = left_train.describe()\n",
    "left_train = left_train / left_stats.loc['std']\n",
    "left_test = left_test / left_stats.loc['std']\n",
    "MAX_TTE = 31 * 24 * 60 * 60"
   ],
   "metadata": {
    "collapsed": false
   }
  },
  {
   "cell_type": "code",
   "execution_count": null,
   "outputs": [],
   "source": [
    "def train_model(target_place_name_and_type):\n",
    "    # model_path = f'../dist/models/{target_place_name_and_type}.h5'\n",
    "    # if os.path.isfile(model_path):\n",
    "    #     return\n",
    "\n",
    "    right = y_train_tte_1h.set_index(['ИМЯ МАШИНЫ', 'DT'])[[target_place_name_and_type]].astype('float64') / MAX_TTE\n",
    "    data = pd.merge(left_train, right, left_index=True, right_index=True)\n",
    "\n",
    "    batches = None\n",
    "    for machine in x_structure.columns:\n",
    "        seq = data.loc[machine].sort_index().astype('float64').ffill().fillna(0)\n",
    "        X = seq[x_structure.index]\n",
    "        Y = seq.drop(x_structure.index, axis=1)\n",
    "        machine_examples = keras.utils.timeseries_dataset_from_array(X, Y, sequence_length=24 * 7, sequence_stride=24, seed=1337)\n",
    "        if batches is None:\n",
    "            batches = machine_examples\n",
    "        else:\n",
    "            batches = batches.concatenate(machine_examples)\n",
    "\n",
    "    model = keras.Sequential([\n",
    "        keras.Input((24*7, len(x_structure.index))),\n",
    "        keras.layers.Dense(24*3, activation='relu'),\n",
    "        keras.layers.Dense(1, activation='sigmoid'),\n",
    "    ])\n",
    "\n",
    "    model.compile(loss='mse', optimizer='adam')\n",
    "    # model.summary()\n",
    "\n",
    "    print(str(datetime.now()) + ' -- ' + target_place_name_and_type)\n",
    "    history = model.fit(batches, epochs=1000)\n",
    "    # px.line(history.history).show()\n",
    "\n",
    "    # model.save(model_path, save_format='h5')\n",
    "    return history\n",
    "\n",
    "\n",
    "history = train_model('РОТОР TTE M3')\n",
    "px.line(history.history).show()"
   ],
   "metadata": {
    "collapsed": false
   }
  },
  {
   "cell_type": "code",
   "execution_count": null,
   "outputs": [],
   "source": [
    "def evaluate_model(target_place_name_and_type, machine):\n",
    "    model = keras.models.load_model(f'../dist/models/{target_place_name_and_type}.h5', compile=False)\n",
    "    right = y_train_tte_1h.set_index(['ИМЯ МАШИНЫ', 'DT'])[[target_place_name_and_type]].astype('float64') / MAX_TTE\n",
    "\n",
    "    input_df = left_train.loc[machine].astype('float64').ffill()\n",
    "    result = pd.DataFrame(index=right.loc[machine].index)\n",
    "    result['ПРОГНОЗ'] = 0\n",
    "\n",
    "    x = 0\n",
    "    while x < len(input_df) - 24*7 - 24:\n",
    "        window = input_df.iloc[x:x+24*7]\n",
    "        if len(window) < 24:\n",
    "            break\n",
    "        input = np.array([window])\n",
    "        output = model.predict(input, verbose=0)\n",
    "        result['ПРОГНОЗ'].iloc[x+24*7:x+24*7+24] = output[0][-24:].reshape((24))\n",
    "\n",
    "        print(\"{:3.2f}%\".format(100 * x / len(input_df)))\n",
    "        x += 24\n",
    "\n",
    "# evaluate_model('УЛИТА TTE M3', 'ЭКСГАУСТЕР А/М №4')"
   ],
   "metadata": {
    "collapsed": false
   }
  },
  {
   "cell_type": "code",
   "execution_count": null,
   "outputs": [],
   "source": [
    "submission1_ref = pd.read_excel('../data/source/sample_submission/submission_1.xlsx', index_col=0)\n",
    "submission2_ref = pd.read_parquet('../data/source/sample_submission/sample_submission_2.parquet')\n",
    "submission3_ref = pd.read_parquet('../data/source/sample_submission/sample_submission_3.parquet')"
   ],
   "metadata": {
    "collapsed": false
   }
  },
  {
   "cell_type": "code",
   "execution_count": null,
   "outputs": [],
   "source": [
    "x_test = pd.read_parquet('../data/source/X_test.parquet')"
   ],
   "metadata": {
    "collapsed": false
   }
  },
  {
   "cell_type": "code",
   "execution_count": null,
   "outputs": [],
   "source": [
    "# submission1 = submission1_ref.copy()\n",
    "# submission1['machine'] = np.NaN\n",
    "# submission1['tm'] = np.NaN\n",
    "# submission2 = pd.DataFrame(index=x_test.index, columns=submission2_ref.columns)\n",
    "# submission3 = pd.DataFrame(index=x_test.index, columns=submission3_ref.columns)\n",
    "\n",
    "def apply_model(target_place_name):\n",
    "    # submission2_slice_path = f'../dist/submission2/{place}.parquet'\n",
    "    # submission3_slice_path = f'../dist/submission3/{place}.parquet'\n",
    "    # if os.path.isfile(submission2_slice_path) and os.path.isfile(submission3_slice_path):\n",
    "    #     return\n",
    "    #\n",
    "    submission2_slice = pd.DataFrame(index=x_test.index)\n",
    "    submission3_slice = pd.DataFrame(index=x_test.index)\n",
    "\n",
    "    print(str(datetime.now()) + ' -- ' + target_place_name)\n",
    "    for machine in y_structure.columns:\n",
    "        prediction_field_m1 = f'{target_place_name} TTE M1'\n",
    "        prediction_field_m3 = f'{target_place_name} TTE M3'\n",
    "        model_m1 = keras.models.load_model(f'../dist/models/{prediction_field_m1}.h5', compile=False)\n",
    "        model_m3 = keras.models.load_model(f'../dist/models/{prediction_field_m3}.h5', compile=False)\n",
    "        y_name = y_structure[machine].loc[target_place_name]\n",
    "        if y_name not in submission2_ref.columns:\n",
    "            continue\n",
    "\n",
    "        input_df = left_test.loc[machine].astype('float64').ffill()\n",
    "        input_raw_df = left_test_raw.loc[machine].astype('float64')\n",
    "        result = pd.DataFrame(index=left_test.loc[machine].index, columns=[prediction_field_m1, prediction_field_m3])\n",
    "\n",
    "        x = 0\n",
    "        while x < len(input_df) - 24*7 - 24:\n",
    "            window = input_df.iloc[x:x+24*7]\n",
    "            if len(window) < 24:\n",
    "                break\n",
    "            input = np.array([window])\n",
    "            output_m1 = model_m1.predict(input, verbose=0)\n",
    "            output_m3 = model_m3.predict(input, verbose=0)\n",
    "            result[prediction_field_m1].iloc[x+24*7:x+24*7+24] = output_m1[0][-24:].reshape((24))\n",
    "            result[prediction_field_m3].iloc[x+24*7:x+24*7+24] = output_m3[0][-24:].reshape((24))\n",
    "            x += 24\n",
    "            # break\n",
    "\n",
    "        upsampled = result.rolling(72).mean().resample('10s').interpolate().fillna(1)\n",
    "        submission2_slice[y_name] = upsampled[prediction_field_m3].map(lambda x: 1 if x < 0.2 else 0)\n",
    "        submission3_slice[y_name] = upsampled[prediction_field_m1] * MAX_TTE\n",
    "\n",
    "    # submission2_slice.to_parquet(submission2_slice_path)\n",
    "    # submission3_slice.to_parquet(submission3_slice_path)\n",
    "\n",
    "for place in y_structure.index:\n",
    "    apply_model(place)\n",
    "\n",
    "# for place in ['РОТОР']:\n",
    "#     apply_model(place)"
   ],
   "metadata": {
    "collapsed": false
   }
  },
  {
   "cell_type": "code",
   "execution_count": null,
   "outputs": [],
   "source": [
    "def prepare_results(target_place_name):\n",
    "    m1_slice_path = f'../data/pipeline/db/tms/m1/{target_place_name}.parquet'\n",
    "    m3_slice_path = f'../data/pipeline/db/tms/m3/{target_place_name}.parquet'\n",
    "\n",
    "    if os.path.isfile(m1_slice_path) and os.path.isfile(m3_slice_path):\n",
    "        return\n",
    "\n",
    "    left = pd.concat([left_train, left_test])\n",
    "\n",
    "    m1_slice = pd.DataFrame(index=left.index)\n",
    "    m3_slice = pd.DataFrame(index=left.index)\n",
    "\n",
    "    prediction_field_m1 = f'{target_place_name} TTE M1'\n",
    "    prediction_field_m3 = f'{target_place_name} TTE M3'\n",
    "    model_m1 = keras.models.load_model(f'../dist/models/{prediction_field_m1}.h5', compile=False)\n",
    "    model_m3 = keras.models.load_model(f'../dist/models/{prediction_field_m3}.h5', compile=False)\n",
    "\n",
    "    print(str(datetime.now()) + ' -- ' + target_place_name)\n",
    "    for machine in y_structure.columns:\n",
    "        input_df = left.loc[machine].astype('float64').ffill()\n",
    "        result = pd.DataFrame(index=left.loc[machine].index, columns=[prediction_field_m1, prediction_field_m3])\n",
    "\n",
    "        # @NOTE: Шаг в неделю\n",
    "        x = 0\n",
    "        while x < len(input_df) - 24*7 - 24:\n",
    "            window = input_df.iloc[x:x+24*7]\n",
    "            if len(window) < 24:\n",
    "                break\n",
    "            input = np.array([window])\n",
    "            output_m1 = model_m1.predict(input, verbose=0)\n",
    "            output_m3 = model_m3.predict(input, verbose=0)\n",
    "            result[prediction_field_m1].iloc[x:x+24*7] = output_m1[0].reshape((24*7,))\n",
    "            result[prediction_field_m3].iloc[x:x+24*7] = output_m3[0].reshape((24*7,))\n",
    "            x += 7 * 24\n",
    "\n",
    "        # upsampled = result.rolling(72).mean().fillna(1)\n",
    "        upsampled = result.fillna(1)\n",
    "        m1_slice.loc[machine, target_place_name] = upsampled[prediction_field_m1].values * MAX_TTE\n",
    "        m3_slice.loc[machine, target_place_name] = upsampled[prediction_field_m3].values * MAX_TTE\n",
    "\n",
    "    m1_slice.to_parquet(m1_slice_path)\n",
    "    m3_slice.to_parquet(m3_slice_path)\n",
    "\n",
    "for target_place_name in y_structure.index:\n",
    "    prepare_results(target_place_name)\n",
    "\n",
    "# for place in ['РОТОР']:\n",
    "#     prepare_results(place)"
   ],
   "metadata": {
    "collapsed": false
   }
  },
  {
   "cell_type": "code",
   "execution_count": null,
   "outputs": [],
   "source": [
    "def glue_results():\n",
    "    m1_predictions = None\n",
    "    m3_predictions = None\n",
    "\n",
    "    for target_place_name in y_structure.index:\n",
    "        m1_slice_path = f'../data/pipeline/db/tms/m1/{target_place_name}.parquet'\n",
    "        m3_slice_path = f'../data/pipeline/db/tms/m3/{target_place_name}.parquet'\n",
    "\n",
    "        if not(os.path.isfile(m1_slice_path) and os.path.isfile(m3_slice_path)):\n",
    "            continue\n",
    "\n",
    "        m1_slice = pd.read_parquet(m1_slice_path)\n",
    "        if m1_predictions is None:\n",
    "            m1_predictions = m1_slice\n",
    "        else:\n",
    "            m1_predictions = m1_predictions.merge(m1_slice, left_index=True, right_index=True)\n",
    "\n",
    "        m3_slice = pd.read_parquet(m3_slice_path)\n",
    "        if m3_predictions is None:\n",
    "            m3_predictions = m3_slice\n",
    "        else:\n",
    "            m3_predictions = m3_predictions.merge(m3_slice, left_index=True, right_index=True)\n",
    "\n",
    "    return m1_predictions, m3_predictions\n",
    "\n",
    "m1_predictions, m3_predictions = glue_results()\n",
    "\n",
    "tmp_m1 = m1_predictions.copy().reset_index()\n",
    "tmp_m1['machine_id'] = tmp_m1['ИМЯ МАШИНЫ'].str.extract('№(\\\\d+)').astype(int)\n",
    "tmp_m1 = tmp_m1.drop(['ИМЯ МАШИНЫ'], axis=1)\n",
    "tmp_m1.to_csv('../data/pipeline/db/tm_m1_predictions.csv')\n",
    "tmp_m1.set_index(['machine_id', 'DT']).rolling(14, center=True).quantile(0.1).reset_index().to_csv('../data/pipeline/db/tm_m1_predictions_smooth.csv')\n",
    "\n",
    "tmp_m3 = m3_predictions.copy().reset_index()\n",
    "tmp_m3['machine_id'] = tmp_m3['ИМЯ МАШИНЫ'].str.extract('№(\\\\d+)').astype(int)\n",
    "tmp_m3 = tmp_m3.drop(['ИМЯ МАШИНЫ'], axis=1)\n",
    "tmp_m3.to_csv('../data/pipeline/db/tm_m3_predictions.csv')\n",
    "tmp_m3.set_index(['machine_id', 'DT']).rolling(14, center=True).quantile(0.1).reset_index().to_csv('../data/pipeline/db/tm_m3_predictions_smooth.csv')"
   ],
   "metadata": {
    "collapsed": false
   }
  },
  {
   "cell_type": "code",
   "execution_count": null,
   "outputs": [],
   "source": [
    "metrics = []\n",
    "\n",
    "def wrmse_metric(y_true, y_pred):\n",
    "    t = y_true\n",
    "    a = 30\n",
    "    weights = 1 / ((a * t).clip(lower=1)) # @NOTE: clip чтобы не получать бесконечности когда t стремится к 0\n",
    "    e = y_pred - y_true\n",
    "    se = e ** 2\n",
    "    wse = se * weights\n",
    "    wmse = wse.mean()\n",
    "    wrmse = wmse ** 0.5\n",
    "    average_wrmse = wrmse\n",
    "    return average_wrmse\n",
    "\n",
    "tmp = y_train_tte_1h.set_index(['ИМЯ МАШИНЫ', 'DT']).sort_index()\n",
    "\n",
    "for place in y_structure.index:\n",
    "    m1_true = tmp[f'{place} TTE M1'] / MAX_TTE\n",
    "    m1_pred = m1_predictions.loc[tmp.index][place] / MAX_TTE\n",
    "\n",
    "    m3_true = tmp[f'{place} TTE M3'] / MAX_TTE\n",
    "    m3_pred = m3_predictions.loc[tmp.index][place] / MAX_TTE\n",
    "\n",
    "    m1_metric = wrmse_metric(m1_true, m1_pred)\n",
    "    m3_metric = wrmse_metric(m3_true, m3_pred)\n",
    "\n",
    "    ones = pd.Series(np.ones(m1_pred.shape), index=m1_pred.index)\n",
    "    m1_ones_metric = wrmse_metric(m1_true, ones)\n",
    "    m3_ones_metric = wrmse_metric(m3_true, ones)\n",
    "\n",
    "    zeros = pd.Series(np.zeros(m1_pred.shape), index=m1_pred.index)\n",
    "    m1_zeros_metric = wrmse_metric(m1_true, zeros)\n",
    "    m3_zeros_metric = wrmse_metric(m3_true, zeros)\n",
    "\n",
    "    random = pd.Series(np.random.uniform(0, 1, m1_pred.shape), index=m1_pred.index)\n",
    "    m1_random_metric = wrmse_metric(m1_true, random)\n",
    "    m3_random_metric = wrmse_metric(m3_true, random)\n",
    "\n",
    "    metrics.append(dict(\n",
    "        m1_metric=m1_metric, m3_metric=m3_metric,\n",
    "        m1_ones_metric=m1_ones_metric, m3_ones_metric=m3_ones_metric,\n",
    "        m1_zeros_metric=m1_zeros_metric, m3_zeros_metric=m3_zeros_metric,\n",
    "        m1_random_metric=m1_random_metric, m3_random_metric=m3_random_metric,\n",
    "    ))"
   ],
   "metadata": {
    "collapsed": false
   }
  },
  {
   "cell_type": "code",
   "execution_count": null,
   "outputs": [],
   "source": [
    "pd.DataFrame(metrics).describe().drop(['count']).transpose().sort_index()"
   ],
   "metadata": {
    "collapsed": false
   }
  },
  {
   "cell_type": "code",
   "execution_count": null,
   "outputs": [],
   "source": [
    "tmp0 = m3_predictions.rolling(14).quantile(0.1)\n",
    "m3_pred = tmp0.loc['ЭКСГАУСТЕР А/М №4']['РОТОР']\n",
    "m3_true = y_train_tte_1h.set_index(['ИМЯ МАШИНЫ', 'DT']).loc['ЭКСГАУСТЕР А/М №4']['РОТОР TTE M3']\n",
    "tmp = pd.merge(m3_true, m3_pred, left_index=True, right_index=True, how='outer')\n",
    "px.line(tmp)"
   ],
   "metadata": {
    "collapsed": false
   }
  }
 ],
 "metadata": {
  "kernelspec": {
   "display_name": "Python 3",
   "language": "python",
   "name": "python3"
  },
  "language_info": {
   "codemirror_mode": {
    "name": "ipython",
    "version": 2
   },
   "file_extension": ".py",
   "mimetype": "text/x-python",
   "name": "python",
   "nbconvert_exporter": "python",
   "pygments_lexer": "ipython2",
   "version": "2.7.6"
  }
 },
 "nbformat": 4,
 "nbformat_minor": 0
}
