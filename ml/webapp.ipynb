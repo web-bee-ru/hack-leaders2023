{
 "cells": [
  {
   "cell_type": "code",
   "execution_count": 2,
   "metadata": {
    "collapsed": true
   },
   "outputs": [],
   "source": [
    "%load_ext autoreload\n",
    "%autoreload 2"
   ]
  },
  {
   "cell_type": "code",
   "execution_count": 3,
   "outputs": [],
   "source": [
    "import pandas as pd # 2.x to support pyarrow\n",
    "import pyarrow as pa"
   ],
   "metadata": {
    "collapsed": false
   }
  },
  {
   "cell_type": "code",
   "execution_count": 5,
   "outputs": [],
   "source": [
    "messages = pd.read_excel('../data/source/messages.xlsx', index_col=0)"
   ],
   "metadata": {
    "collapsed": false
   }
  },
  {
   "cell_type": "code",
   "execution_count": 6,
   "outputs": [
    {
     "data": {
      "text/plain": "                  МАШИНА         ИМЯ_МАШИНЫ                   ТЕХ_МЕСТО   \n390          AA2/006-006  ЭКСГАУСТЕР А/М №9         AA2/006-006-002-008  \\\n391   CH-AGP-AG2/011-005  ЭКСГАУСТЕР А/М №9      CH-AGP-AG2/011-005-002   \n392          AA2/002-006  ЭКСГАУСТЕР А/М №5         AA2/002-006-002-004   \n393   CH-AGP-AG2/003-005  ЭКСГАУСТЕР А/М №5  CH-AGP-AG2/003-005-002-004   \n394   CH-AGP-AG2/003-005  ЭКСГАУСТЕР А/М №5  CH-AGP-AG2/003-005-002-004   \n...                  ...                ...                         ...   \n2155         AA2/005-006  ЭКСГАУСТЕР А/М №8     AA2/005-006-001-005-001   \n2156         AA2/005-006  ЭКСГАУСТЕР А/М №8         AA2/005-006-003-002   \n2157         AA2/003-006  ЭКСГАУСТЕР А/М №6         AA2/003-006-001-001   \n2158         AA2/001-006  ЭКСГАУСТЕР А/М №4         AA2/001-006-001-006   \n2159         AA2/006-006  ЭКСГАУСТЕР А/М №9     AA2/006-006-001-005-001   \n\n                       НАЗВАНИЕ_ТЕХ_МЕСТА ВИД_СООБЩЕНИЯ   \n390      ЗАПОРНАЯ АРМАТУРА ЭКСГАУСТЕРА №9            M3  \\\n391   МАСЛОСТАНЦИЯ ЖИДКОЙ СМАЗКИ ЭКСГ. №9            M3   \n392      МАСЛООХЛАДИТЕЛЬ  М-05-1 ЭКСГ. №5            M3   \n393      МАСЛООХЛАДИТЕЛЬ  М-05-1 ЭКСГ. №5            M3   \n394      МАСЛООХЛАДИТЕЛЬ  М-05-1 ЭКСГ. №5            M3   \n...                                   ...           ...   \n2155   ЭЛЕКТРООБОРУДОВАНИЯ ЭКСГАУСТЕРА №8            M3   \n2156      РЕДУКТОР ГАЗ. ЗАДВИЖКИ ЭКСГ. №8            M3   \n2157                      КОРПУС ЭКСГ. №6            M3   \n2158                       УЛИТА ЭКСГ. №4            M3   \n2159   ЭЛЕКТРООБОРУДОВАНИЯ ЭКСГАУСТЕРА №9            M1   \n\n                                      ОПИСАНИЕ ДАТА_НАЧАЛА_НЕИСПРАВНОСТИ   \n390                       неисправен двигатель       2019-01-21 00:00:00  \\\n391                       неисправен двигатель       2019-01-21 12:26:08   \n392   менять прокладку на подачу воды в охлади       2019-01-21 15:35:26   \n393   менять прокладку на подачу воды в охлади       2019-01-21 16:33:00   \n394   менять прокладку на подачу воды в охлади       2019-01-21 16:36:01   \n...                                        ...                       ...   \n2155  Концевой выключатель на открытие г.задв.       2021-12-28 09:20:00   \n2156                         Смазка редуктора.       2021-12-28 09:23:00   \n2157                                   Прососы       2021-12-28 12:23:00   \n2158                                   Прососы       2021-12-28 12:39:00   \n2159              остановка эксг. №9 (2РУ МТЗ)       2021-12-29 16:27:02   \n\n     ДАТА_УСТРАНЕНИЯ_НЕИСПРАВНОСТИ      ТЕКСТ_ГРУППЫ_КОДОВ  \n390            2019-02-25 00:00:00                     NaN  \n391            2019-02-25 00:00:00                     NaN  \n392            2019-01-23 11:00:00                     NaN  \n393            2019-01-22 00:00:00                     NaN  \n394            2019-06-04 15:35:26                     NaN  \n...                            ...                     ...  \n2155           2021-12-30 00:00:00                     NaN  \n2156                           NaT                     NaN  \n2157                           NaT                     NaN  \n2158                           NaT                     NaN  \n2159           2021-12-29 16:33:03  ТЕХНИЧЕСКИЕ НЕПЛАНОВЫЕ  \n\n[981 rows x 9 columns]",
      "text/html": "<div>\n<style scoped>\n    .dataframe tbody tr th:only-of-type {\n        vertical-align: middle;\n    }\n\n    .dataframe tbody tr th {\n        vertical-align: top;\n    }\n\n    .dataframe thead th {\n        text-align: right;\n    }\n</style>\n<table border=\"1\" class=\"dataframe\">\n  <thead>\n    <tr style=\"text-align: right;\">\n      <th></th>\n      <th>МАШИНА</th>\n      <th>ИМЯ_МАШИНЫ</th>\n      <th>ТЕХ_МЕСТО</th>\n      <th>НАЗВАНИЕ_ТЕХ_МЕСТА</th>\n      <th>ВИД_СООБЩЕНИЯ</th>\n      <th>ОПИСАНИЕ</th>\n      <th>ДАТА_НАЧАЛА_НЕИСПРАВНОСТИ</th>\n      <th>ДАТА_УСТРАНЕНИЯ_НЕИСПРАВНОСТИ</th>\n      <th>ТЕКСТ_ГРУППЫ_КОДОВ</th>\n    </tr>\n  </thead>\n  <tbody>\n    <tr>\n      <th>390</th>\n      <td>AA2/006-006</td>\n      <td>ЭКСГАУСТЕР А/М №9</td>\n      <td>AA2/006-006-002-008</td>\n      <td>ЗАПОРНАЯ АРМАТУРА ЭКСГАУСТЕРА №9</td>\n      <td>M3</td>\n      <td>неисправен двигатель</td>\n      <td>2019-01-21 00:00:00</td>\n      <td>2019-02-25 00:00:00</td>\n      <td>NaN</td>\n    </tr>\n    <tr>\n      <th>391</th>\n      <td>CH-AGP-AG2/011-005</td>\n      <td>ЭКСГАУСТЕР А/М №9</td>\n      <td>CH-AGP-AG2/011-005-002</td>\n      <td>МАСЛОСТАНЦИЯ ЖИДКОЙ СМАЗКИ ЭКСГ. №9</td>\n      <td>M3</td>\n      <td>неисправен двигатель</td>\n      <td>2019-01-21 12:26:08</td>\n      <td>2019-02-25 00:00:00</td>\n      <td>NaN</td>\n    </tr>\n    <tr>\n      <th>392</th>\n      <td>AA2/002-006</td>\n      <td>ЭКСГАУСТЕР А/М №5</td>\n      <td>AA2/002-006-002-004</td>\n      <td>МАСЛООХЛАДИТЕЛЬ  М-05-1 ЭКСГ. №5</td>\n      <td>M3</td>\n      <td>менять прокладку на подачу воды в охлади</td>\n      <td>2019-01-21 15:35:26</td>\n      <td>2019-01-23 11:00:00</td>\n      <td>NaN</td>\n    </tr>\n    <tr>\n      <th>393</th>\n      <td>CH-AGP-AG2/003-005</td>\n      <td>ЭКСГАУСТЕР А/М №5</td>\n      <td>CH-AGP-AG2/003-005-002-004</td>\n      <td>МАСЛООХЛАДИТЕЛЬ  М-05-1 ЭКСГ. №5</td>\n      <td>M3</td>\n      <td>менять прокладку на подачу воды в охлади</td>\n      <td>2019-01-21 16:33:00</td>\n      <td>2019-01-22 00:00:00</td>\n      <td>NaN</td>\n    </tr>\n    <tr>\n      <th>394</th>\n      <td>CH-AGP-AG2/003-005</td>\n      <td>ЭКСГАУСТЕР А/М №5</td>\n      <td>CH-AGP-AG2/003-005-002-004</td>\n      <td>МАСЛООХЛАДИТЕЛЬ  М-05-1 ЭКСГ. №5</td>\n      <td>M3</td>\n      <td>менять прокладку на подачу воды в охлади</td>\n      <td>2019-01-21 16:36:01</td>\n      <td>2019-06-04 15:35:26</td>\n      <td>NaN</td>\n    </tr>\n    <tr>\n      <th>...</th>\n      <td>...</td>\n      <td>...</td>\n      <td>...</td>\n      <td>...</td>\n      <td>...</td>\n      <td>...</td>\n      <td>...</td>\n      <td>...</td>\n      <td>...</td>\n    </tr>\n    <tr>\n      <th>2155</th>\n      <td>AA2/005-006</td>\n      <td>ЭКСГАУСТЕР А/М №8</td>\n      <td>AA2/005-006-001-005-001</td>\n      <td>ЭЛЕКТРООБОРУДОВАНИЯ ЭКСГАУСТЕРА №8</td>\n      <td>M3</td>\n      <td>Концевой выключатель на открытие г.задв.</td>\n      <td>2021-12-28 09:20:00</td>\n      <td>2021-12-30 00:00:00</td>\n      <td>NaN</td>\n    </tr>\n    <tr>\n      <th>2156</th>\n      <td>AA2/005-006</td>\n      <td>ЭКСГАУСТЕР А/М №8</td>\n      <td>AA2/005-006-003-002</td>\n      <td>РЕДУКТОР ГАЗ. ЗАДВИЖКИ ЭКСГ. №8</td>\n      <td>M3</td>\n      <td>Смазка редуктора.</td>\n      <td>2021-12-28 09:23:00</td>\n      <td>NaT</td>\n      <td>NaN</td>\n    </tr>\n    <tr>\n      <th>2157</th>\n      <td>AA2/003-006</td>\n      <td>ЭКСГАУСТЕР А/М №6</td>\n      <td>AA2/003-006-001-001</td>\n      <td>КОРПУС ЭКСГ. №6</td>\n      <td>M3</td>\n      <td>Прососы</td>\n      <td>2021-12-28 12:23:00</td>\n      <td>NaT</td>\n      <td>NaN</td>\n    </tr>\n    <tr>\n      <th>2158</th>\n      <td>AA2/001-006</td>\n      <td>ЭКСГАУСТЕР А/М №4</td>\n      <td>AA2/001-006-001-006</td>\n      <td>УЛИТА ЭКСГ. №4</td>\n      <td>M3</td>\n      <td>Прососы</td>\n      <td>2021-12-28 12:39:00</td>\n      <td>NaT</td>\n      <td>NaN</td>\n    </tr>\n    <tr>\n      <th>2159</th>\n      <td>AA2/006-006</td>\n      <td>ЭКСГАУСТЕР А/М №9</td>\n      <td>AA2/006-006-001-005-001</td>\n      <td>ЭЛЕКТРООБОРУДОВАНИЯ ЭКСГАУСТЕРА №9</td>\n      <td>M1</td>\n      <td>остановка эксг. №9 (2РУ МТЗ)</td>\n      <td>2021-12-29 16:27:02</td>\n      <td>2021-12-29 16:33:03</td>\n      <td>ТЕХНИЧЕСКИЕ НЕПЛАНОВЫЕ</td>\n    </tr>\n  </tbody>\n</table>\n<p>981 rows × 9 columns</p>\n</div>"
     },
     "execution_count": 6,
     "metadata": {},
     "output_type": "execute_result"
    }
   ],
   "source": [
    "messages"
   ],
   "metadata": {
    "collapsed": false
   }
  },
  {
   "cell_type": "code",
   "execution_count": null,
   "outputs": [],
   "source": [
    "x_structure = pd.read_parquet('../data/pipeline/x_structure.parquet')\n",
    "y_structure = pd.read_parquet('../data/pipeline/y_structure.parquet')"
   ],
   "metadata": {
    "collapsed": false
   }
  },
  {
   "cell_type": "code",
   "execution_count": null,
   "outputs": [],
   "source": [
    "x_train_pretty_1h = pd.read_parquet('../data/pipeline/x_train_pretty_1h.parquet')\n",
    "x_test_pretty_1h = pd.read_parquet('../data/pipeline/x_test_pretty_1h.parquet')\n",
    "y_train_tte_1h = pd.read_parquet('../data/pipeline/y_train_tte_1h.parquet')\n",
    "p_test_tte_1h = pd.read_parquet('../data/pipeline/p_test_tte_1h.parquet')"
   ],
   "metadata": {
    "collapsed": false
   }
  },
  {
   "cell_type": "code",
   "execution_count": null,
   "outputs": [],
   "source": [
    "MAX_TTE = 31 * 24 * 60 * 60"
   ],
   "metadata": {
    "collapsed": false
   }
  },
  {
   "cell_type": "code",
   "execution_count": null,
   "outputs": [],
   "source": [
    "sensors_values = pd.concat([x_train_pretty_1h, x_test_pretty_1h])\n",
    "sensors_values = sensors_values.set_index(['DT', 'ИМЯ МАШИНЫ']).sort_index().reset_index()\n",
    "sensors_values['machine_id'] = sensors_values['ИМЯ МАШИНЫ'].str.extract('№(\\d+)').astype(int)\n",
    "sensors_values = sensors_values.drop(['ИМЯ МАШИНЫ', 'ROW_IDX', 'DATASET_IDX'], axis=1)\n",
    "sensors_values = sensors_values.sort_index(axis=1)\n",
    "sensors_values.to_csv('../data/pipeline/db/sensor_values.csv', index=False)"
   ],
   "metadata": {
    "collapsed": false
   }
  },
  {
   "cell_type": "code",
   "execution_count": null,
   "outputs": [],
   "source": [
    "tmp = y_train_tte_1h\n",
    "tmp = tmp.set_index(['DT', 'ИМЯ МАШИНЫ']).sort_index().reset_index()\n",
    "tmp['machine_id'] = tmp['ИМЯ МАШИНЫ'].str.extract('№(\\d+)').astype(int)\n",
    "tmp = tmp.drop(['ИМЯ МАШИНЫ', 'ROW_IDX_x', 'DATASET_IDX_x', 'ROW_IDX_y', 'DATASET_IDX_y'], axis=1)\n",
    "tmp = tmp.sort_index(axis=1)\n",
    "\n",
    "tm_m1_columns = y_structure.index.map(lambda x: x + ' TTE M1')\n",
    "tm_m1_values = tmp[['DT', 'machine_id']].copy()\n",
    "tm_m1_values[y_structure.index] = tmp[tm_m1_columns]\n",
    "tm_m1_values.to_csv('../data/pipeline/db/tm_m1_values.csv', index=False)\n",
    "\n",
    "tm_m3_columns = y_structure.index.map(lambda x: x + ' TTE M3')\n",
    "tm_m3_values = tmp[['DT', 'machine_id']].copy()\n",
    "tm_m3_values[y_structure.index] = tmp[tm_m3_columns]\n",
    "tm_m3_values.to_csv('../data/pipeline/db/tm_m3_values.csv', index=False)"
   ],
   "metadata": {
    "collapsed": false
   }
  },
  {
   "cell_type": "code",
   "execution_count": null,
   "outputs": [],
   "source": [
    "# @WIP: m1/m3 predictions"
   ],
   "metadata": {
    "collapsed": false
   }
  }
 ],
 "metadata": {
  "kernelspec": {
   "display_name": "Python 3",
   "language": "python",
   "name": "python3"
  },
  "language_info": {
   "codemirror_mode": {
    "name": "ipython",
    "version": 2
   },
   "file_extension": ".py",
   "mimetype": "text/x-python",
   "name": "python",
   "nbconvert_exporter": "python",
   "pygments_lexer": "ipython2",
   "version": "2.7.6"
  }
 },
 "nbformat": 4,
 "nbformat_minor": 0
}
